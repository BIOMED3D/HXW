{
 "cells": [
  {
   "cell_type": "code",
   "execution_count": null,
   "id": "ac7d2824",
   "metadata": {},
   "outputs": [],
   "source": [
    "import requests\n",
    "import lxml.html as lh\n",
    "import pandas as pd\n",
    "\n",
    "url='https://www.worldometers.info/world-population/world-population-by-year/'\n",
    "page = requests.get(url)\n",
    "\n",
    "page\n",
    "\n",
    "doc = lh.fromstring(page.content)\n",
    "elems= doc.xpath('//tr')\n",
    "\n",
    "elems\n",
    "\n",
    "\n",
    "len (elems)\n",
    "\n",
    "cols=[]\n",
    "\n",
    "for e in elems[0]:\n",
    "    name=e.text_content()\n",
    "    print (name)\n",
    "    cols.append((name,[]))\n",
    "\n",
    "\n",
    "cols\n",
    "\n",
    "for j in range(1,len(elems)):\n",
    "    \n",
    "    E=elems[j]\n",
    "    i=0\n",
    "    \n",
    "    for h in E.iterchildren():\n",
    "        data=h.text_content() \n",
    "        print (data)\n",
    "        if i>0:\n",
    "            try:\n",
    "                data=int(data)\n",
    "            except:\n",
    "                pass\n",
    "        cols[i][1].append(data)\n",
    "        i+=1\n",
    "\n",
    "Dict={title:column for (title,column) in cols}\n",
    "df=pd.DataFrame(Dict)\n",
    "\n",
    "df\n",
    "\n",
    "\n",
    "output = df.to_csv('Sample_data.csv')\n",
    "\n",
    "output"
   ]
  },
  {
   "cell_type": "code",
   "execution_count": null,
   "id": "c3cd2463",
   "metadata": {},
   "outputs": [],
   "source": []
  }
 ],
 "metadata": {
  "kernelspec": {
   "display_name": "Python 3 (ipykernel)",
   "language": "python",
   "name": "python3"
  },
  "language_info": {
   "codemirror_mode": {
    "name": "ipython",
    "version": 3
   },
   "file_extension": ".py",
   "mimetype": "text/x-python",
   "name": "python",
   "nbconvert_exporter": "python",
   "pygments_lexer": "ipython3",
   "version": "3.9.13"
  },
  "toc": {
   "base_numbering": 1,
   "nav_menu": {},
   "number_sections": true,
   "sideBar": true,
   "skip_h1_title": false,
   "title_cell": "Table of Contents",
   "title_sidebar": "Contents",
   "toc_cell": false,
   "toc_position": {},
   "toc_section_display": true,
   "toc_window_display": false
  },
  "varInspector": {
   "cols": {
    "lenName": 16,
    "lenType": 16,
    "lenVar": 40
   },
   "kernels_config": {
    "python": {
     "delete_cmd_postfix": "",
     "delete_cmd_prefix": "del ",
     "library": "var_list.py",
     "varRefreshCmd": "print(var_dic_list())"
    },
    "r": {
     "delete_cmd_postfix": ") ",
     "delete_cmd_prefix": "rm(",
     "library": "var_list.r",
     "varRefreshCmd": "cat(var_dic_list()) "
    }
   },
   "types_to_exclude": [
    "module",
    "function",
    "builtin_function_or_method",
    "instance",
    "_Feature"
   ],
   "window_display": false
  }
 },
 "nbformat": 4,
 "nbformat_minor": 5
}
