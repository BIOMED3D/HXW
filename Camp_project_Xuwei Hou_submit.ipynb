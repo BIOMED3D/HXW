{
 "cells": [
  {
   "cell_type": "code",
   "execution_count": 5,
   "id": "88a51680",
   "metadata": {},
   "outputs": [],
   "source": [
    "\n",
    "import pandas as pd\n",
    "from sklearn.linear_model import LinearRegression\n",
    "from sklearn.preprocessing import PolynomialFeatures\n",
    "from sklearn.model_selection import GridSearchCV\n",
    "from sklearn.metrics import make_scorer, mean_absolute_error, mean_squared_error, r2_score\n",
    "from scipy.stats import pearsonr   \n",
    "from sklearn.preprocessing import MinMaxScaler\n",
    "from sklearn.pipeline import Pipeline\n",
    "from sklearn.decomposition import PCA\n",
    "import matplotlib.pylab as plt\n",
    "import seaborn as sns\n",
    "from sklearn.metrics import make_scorer\n",
    "from sklearn.linear_model import Ridge, Lasso\n",
    "from sklearn.feature_extraction.text import CountVectorizer\n",
    "from statsmodels.tsa.stattools import adfuller\n",
    "from statsmodels.graphics.tsaplots import plot_acf, plot_pacf\n",
    "from statsmodels.graphics.tsaplots import plot_predict\n",
    "from statsmodels.tsa.arima_model import ARIMA\n",
    "from statsmodels.tsa.arima.model import ARIMA\n",
    "from sklearn.base import TransformerMixin\n",
    "from sklearn.tree import DecisionTreeRegressor\n",
    "from sklearn.ensemble import RandomForestRegressor\n",
    "from sklearn.ensemble import GradientBoostingRegressor\n",
    "#from xgboost.sklearn import XGBRegressor\n",
    "from sklearn import tree\n",
    "from sklearn.base import TransformerMixin\n",
    "from sklearn.model_selection import train_test_split\n",
    "import numpy as np\n",
    "%matplotlib inline\n",
    "import warnings\n",
    "warnings.filterwarnings('ignore')\n",
    "import seaborn as sns; sns.set()"
   ]
  },
  {
   "cell_type": "code",
   "execution_count": 6,
   "id": "fd9cf597",
   "metadata": {},
   "outputs": [],
   "source": [
    "df = pd.read_csv('churn_imbalanced.csv')"
   ]
  },
  {
   "cell_type": "code",
   "execution_count": 7,
   "id": "b8c40fdd",
   "metadata": {},
   "outputs": [],
   "source": [
    "# df.drop(['customer_id'],axis=1).head()"
   ]
  },
  {
   "cell_type": "markdown",
   "id": "9aadd92e",
   "metadata": {},
   "source": [
    "# Data overview"
   ]
  },
  {
   "cell_type": "markdown",
   "id": "917e1669",
   "metadata": {},
   "source": [
    "## Data size"
   ]
  },
  {
   "cell_type": "code",
   "execution_count": 9,
   "id": "c1b256c4",
   "metadata": {},
   "outputs": [
    {
     "data": {
      "text/plain": [
       "Poor Product Quality        6350\n",
       "No reason specified         6290\n",
       "Too many ads                6279\n",
       "Poor Website                6271\n",
       "Poor Customer Service       6252\n",
       "Reasonable Price            1417\n",
       "User Friendly Website       1391\n",
       "Products always in Stock    1382\n",
       "Quality Customer Care       1360\n",
       "Name: feedback, dtype: int64"
      ]
     },
     "execution_count": 9,
     "metadata": {},
     "output_type": "execute_result"
    }
   ],
   "source": [
    "df.feedback.value_counts()"
   ]
  },
  {
   "cell_type": "code",
   "execution_count": 151,
   "id": "73c2dd0b",
   "metadata": {},
   "outputs": [
    {
     "name": "stdout",
     "output_type": "stream",
     "text": [
      "<class 'pandas.core.frame.DataFrame'>\n",
      "RangeIndex: 36992 entries, 0 to 36991\n",
      "Data columns (total 26 columns):\n",
      " #   Column                        Non-Null Count  Dtype  \n",
      "---  ------                        --------------  -----  \n",
      " 0   Unnamed: 0                    36992 non-null  int64  \n",
      " 1   customer_id                   36992 non-null  object \n",
      " 2   Name                          36992 non-null  object \n",
      " 3   age                           36992 non-null  int64  \n",
      " 4   gender                        36992 non-null  object \n",
      " 5   security_no                   36992 non-null  object \n",
      " 6   region_category               31564 non-null  object \n",
      " 7   membership_category           36992 non-null  object \n",
      " 8   joining_date                  36992 non-null  object \n",
      " 9   joined_through_referral       36992 non-null  object \n",
      " 10  referral_id                   36992 non-null  object \n",
      " 11  preferred_offer_types         36704 non-null  object \n",
      " 12  medium_of_operation           36992 non-null  object \n",
      " 13  internet_option               36992 non-null  object \n",
      " 14  last_visit_time               36992 non-null  object \n",
      " 15  days_since_last_login         36992 non-null  int64  \n",
      " 16  avg_time_spent                36992 non-null  float64\n",
      " 17  avg_transaction_value         36992 non-null  float64\n",
      " 18  avg_frequency_login_days      36992 non-null  object \n",
      " 19  points_in_wallet              33549 non-null  float64\n",
      " 20  used_special_discount         36992 non-null  object \n",
      " 21  offer_application_preference  36992 non-null  object \n",
      " 22  past_complaint                36992 non-null  object \n",
      " 23  complaint_status              36992 non-null  object \n",
      " 24  feedback                      36992 non-null  object \n",
      " 25  churn_risk_score              36992 non-null  int64  \n",
      "dtypes: float64(3), int64(4), object(19)\n",
      "memory usage: 7.3+ MB\n"
     ]
    }
   ],
   "source": [
    "df.info()"
   ]
  },
  {
   "cell_type": "code",
   "execution_count": 152,
   "id": "c7db38d8",
   "metadata": {},
   "outputs": [
    {
     "name": "stdout",
     "output_type": "stream",
     "text": [
      "There are 36992 data points ,  26 features in the dataset\n"
     ]
    }
   ],
   "source": [
    "print(f'There are {df.shape[0]} data points ,  {df.shape[1]} features in the dataset')"
   ]
  },
  {
   "cell_type": "markdown",
   "id": "21a33d15",
   "metadata": {},
   "source": [
    "## variable types"
   ]
  },
  {
   "cell_type": "code",
   "execution_count": 153,
   "id": "a3fd43e9",
   "metadata": {},
   "outputs": [
    {
     "data": {
      "text/plain": [
       "Unnamed: 0                        int64\n",
       "customer_id                      object\n",
       "Name                             object\n",
       "age                               int64\n",
       "gender                           object\n",
       "security_no                      object\n",
       "region_category                  object\n",
       "membership_category              object\n",
       "joining_date                     object\n",
       "joined_through_referral          object\n",
       "referral_id                      object\n",
       "preferred_offer_types            object\n",
       "medium_of_operation              object\n",
       "internet_option                  object\n",
       "last_visit_time                  object\n",
       "days_since_last_login             int64\n",
       "avg_time_spent                  float64\n",
       "avg_transaction_value           float64\n",
       "avg_frequency_login_days         object\n",
       "points_in_wallet                float64\n",
       "used_special_discount            object\n",
       "offer_application_preference     object\n",
       "past_complaint                   object\n",
       "complaint_status                 object\n",
       "feedback                         object\n",
       "churn_risk_score                  int64\n",
       "dtype: object"
      ]
     },
     "execution_count": 153,
     "metadata": {},
     "output_type": "execute_result"
    }
   ],
   "source": [
    "df.dtypes"
   ]
  },
  {
   "cell_type": "markdown",
   "id": "9ab78e66",
   "metadata": {},
   "source": [
    "## Numeric variables"
   ]
  },
  {
   "cell_type": "code",
   "execution_count": 154,
   "id": "57fc6287",
   "metadata": {},
   "outputs": [
    {
     "data": {
      "text/html": [
       "<div>\n",
       "<style scoped>\n",
       "    .dataframe tbody tr th:only-of-type {\n",
       "        vertical-align: middle;\n",
       "    }\n",
       "\n",
       "    .dataframe tbody tr th {\n",
       "        vertical-align: top;\n",
       "    }\n",
       "\n",
       "    .dataframe thead th {\n",
       "        text-align: right;\n",
       "    }\n",
       "</style>\n",
       "<table border=\"1\" class=\"dataframe\">\n",
       "  <thead>\n",
       "    <tr style=\"text-align: right;\">\n",
       "      <th></th>\n",
       "      <th>Unnamed: 0</th>\n",
       "      <th>age</th>\n",
       "      <th>days_since_last_login</th>\n",
       "      <th>avg_time_spent</th>\n",
       "      <th>avg_transaction_value</th>\n",
       "      <th>points_in_wallet</th>\n",
       "      <th>churn_risk_score</th>\n",
       "    </tr>\n",
       "  </thead>\n",
       "  <tbody>\n",
       "    <tr>\n",
       "      <th>0</th>\n",
       "      <td>0</td>\n",
       "      <td>18</td>\n",
       "      <td>17</td>\n",
       "      <td>300.63</td>\n",
       "      <td>53005.25</td>\n",
       "      <td>781.75</td>\n",
       "      <td>0</td>\n",
       "    </tr>\n",
       "    <tr>\n",
       "      <th>1</th>\n",
       "      <td>1</td>\n",
       "      <td>32</td>\n",
       "      <td>16</td>\n",
       "      <td>306.34</td>\n",
       "      <td>12838.38</td>\n",
       "      <td>NaN</td>\n",
       "      <td>0</td>\n",
       "    </tr>\n",
       "    <tr>\n",
       "      <th>2</th>\n",
       "      <td>2</td>\n",
       "      <td>44</td>\n",
       "      <td>14</td>\n",
       "      <td>516.16</td>\n",
       "      <td>21027.00</td>\n",
       "      <td>500.69</td>\n",
       "      <td>1</td>\n",
       "    </tr>\n",
       "  </tbody>\n",
       "</table>\n",
       "</div>"
      ],
      "text/plain": [
       "   Unnamed: 0  age  days_since_last_login  avg_time_spent  \\\n",
       "0           0   18                     17          300.63   \n",
       "1           1   32                     16          306.34   \n",
       "2           2   44                     14          516.16   \n",
       "\n",
       "   avg_transaction_value  points_in_wallet  churn_risk_score  \n",
       "0               53005.25            781.75                 0  \n",
       "1               12838.38               NaN                 0  \n",
       "2               21027.00            500.69                 1  "
      ]
     },
     "execution_count": 154,
     "metadata": {},
     "output_type": "execute_result"
    }
   ],
   "source": [
    "df.select_dtypes(include=[np.number]).head(3)"
   ]
  },
  {
   "cell_type": "markdown",
   "id": "f5a32c62",
   "metadata": {},
   "source": [
    "## Categorical variables"
   ]
  },
  {
   "cell_type": "code",
   "execution_count": 155,
   "id": "71ff4297",
   "metadata": {},
   "outputs": [
    {
     "data": {
      "text/html": [
       "<div>\n",
       "<style scoped>\n",
       "    .dataframe tbody tr th:only-of-type {\n",
       "        vertical-align: middle;\n",
       "    }\n",
       "\n",
       "    .dataframe tbody tr th {\n",
       "        vertical-align: top;\n",
       "    }\n",
       "\n",
       "    .dataframe thead th {\n",
       "        text-align: right;\n",
       "    }\n",
       "</style>\n",
       "<table border=\"1\" class=\"dataframe\">\n",
       "  <thead>\n",
       "    <tr style=\"text-align: right;\">\n",
       "      <th></th>\n",
       "      <th>customer_id</th>\n",
       "      <th>Name</th>\n",
       "      <th>gender</th>\n",
       "      <th>security_no</th>\n",
       "      <th>region_category</th>\n",
       "      <th>membership_category</th>\n",
       "      <th>joining_date</th>\n",
       "      <th>joined_through_referral</th>\n",
       "      <th>referral_id</th>\n",
       "      <th>preferred_offer_types</th>\n",
       "      <th>medium_of_operation</th>\n",
       "      <th>internet_option</th>\n",
       "      <th>last_visit_time</th>\n",
       "      <th>avg_frequency_login_days</th>\n",
       "      <th>used_special_discount</th>\n",
       "      <th>offer_application_preference</th>\n",
       "      <th>past_complaint</th>\n",
       "      <th>complaint_status</th>\n",
       "      <th>feedback</th>\n",
       "    </tr>\n",
       "  </thead>\n",
       "  <tbody>\n",
       "    <tr>\n",
       "      <th>0</th>\n",
       "      <td>fffe4300490044003600300030003800</td>\n",
       "      <td>Pattie Morrisey</td>\n",
       "      <td>F</td>\n",
       "      <td>XW0DQ7H</td>\n",
       "      <td>Village</td>\n",
       "      <td>Platinum Membership</td>\n",
       "      <td>2017-08-17</td>\n",
       "      <td>No</td>\n",
       "      <td>xxxxxxxx</td>\n",
       "      <td>Gift Vouchers/Coupons</td>\n",
       "      <td>?</td>\n",
       "      <td>Wi-Fi</td>\n",
       "      <td>16:08:02</td>\n",
       "      <td>17.0</td>\n",
       "      <td>Yes</td>\n",
       "      <td>Yes</td>\n",
       "      <td>No</td>\n",
       "      <td>Not Applicable</td>\n",
       "      <td>Products always in Stock</td>\n",
       "    </tr>\n",
       "    <tr>\n",
       "      <th>1</th>\n",
       "      <td>fffe43004900440032003100300035003700</td>\n",
       "      <td>Traci Peery</td>\n",
       "      <td>F</td>\n",
       "      <td>5K0N3X1</td>\n",
       "      <td>City</td>\n",
       "      <td>Premium Membership</td>\n",
       "      <td>2017-08-28</td>\n",
       "      <td>?</td>\n",
       "      <td>CID21329</td>\n",
       "      <td>Gift Vouchers/Coupons</td>\n",
       "      <td>Desktop</td>\n",
       "      <td>Mobile_Data</td>\n",
       "      <td>12:38:13</td>\n",
       "      <td>10.0</td>\n",
       "      <td>Yes</td>\n",
       "      <td>No</td>\n",
       "      <td>Yes</td>\n",
       "      <td>Solved</td>\n",
       "      <td>Quality Customer Care</td>\n",
       "    </tr>\n",
       "    <tr>\n",
       "      <th>2</th>\n",
       "      <td>fffe4300490044003100390032003600</td>\n",
       "      <td>Merideth Mcmeen</td>\n",
       "      <td>F</td>\n",
       "      <td>1F2TCL3</td>\n",
       "      <td>Town</td>\n",
       "      <td>No Membership</td>\n",
       "      <td>2016-11-11</td>\n",
       "      <td>Yes</td>\n",
       "      <td>CID12313</td>\n",
       "      <td>Gift Vouchers/Coupons</td>\n",
       "      <td>Desktop</td>\n",
       "      <td>Wi-Fi</td>\n",
       "      <td>22:53:21</td>\n",
       "      <td>22.0</td>\n",
       "      <td>No</td>\n",
       "      <td>Yes</td>\n",
       "      <td>Yes</td>\n",
       "      <td>Solved in Follow-up</td>\n",
       "      <td>Poor Website</td>\n",
       "    </tr>\n",
       "  </tbody>\n",
       "</table>\n",
       "</div>"
      ],
      "text/plain": [
       "                            customer_id             Name gender security_no  \\\n",
       "0      fffe4300490044003600300030003800  Pattie Morrisey      F     XW0DQ7H   \n",
       "1  fffe43004900440032003100300035003700      Traci Peery      F     5K0N3X1   \n",
       "2      fffe4300490044003100390032003600  Merideth Mcmeen      F     1F2TCL3   \n",
       "\n",
       "  region_category  membership_category joining_date joined_through_referral  \\\n",
       "0         Village  Platinum Membership   2017-08-17                      No   \n",
       "1            City   Premium Membership   2017-08-28                       ?   \n",
       "2            Town        No Membership   2016-11-11                     Yes   \n",
       "\n",
       "  referral_id  preferred_offer_types medium_of_operation internet_option  \\\n",
       "0    xxxxxxxx  Gift Vouchers/Coupons                   ?           Wi-Fi   \n",
       "1    CID21329  Gift Vouchers/Coupons             Desktop     Mobile_Data   \n",
       "2    CID12313  Gift Vouchers/Coupons             Desktop           Wi-Fi   \n",
       "\n",
       "  last_visit_time avg_frequency_login_days used_special_discount  \\\n",
       "0        16:08:02                     17.0                   Yes   \n",
       "1        12:38:13                     10.0                   Yes   \n",
       "2        22:53:21                     22.0                    No   \n",
       "\n",
       "  offer_application_preference past_complaint     complaint_status  \\\n",
       "0                          Yes             No       Not Applicable   \n",
       "1                           No            Yes               Solved   \n",
       "2                          Yes            Yes  Solved in Follow-up   \n",
       "\n",
       "                   feedback  \n",
       "0  Products always in Stock  \n",
       "1     Quality Customer Care  \n",
       "2              Poor Website  "
      ]
     },
     "execution_count": 155,
     "metadata": {},
     "output_type": "execute_result"
    }
   ],
   "source": [
    "df.select_dtypes(include = ['object']).head(3)\n",
    "# df.select_dtypes(include = [np.object]) 无引号也OK"
   ]
  },
  {
   "cell_type": "markdown",
   "id": "0a3c56e5",
   "metadata": {},
   "source": [
    "###  There are 17 categorical variables and 6 numerical variables"
   ]
  },
  {
   "cell_type": "markdown",
   "id": "ea70938c",
   "metadata": {},
   "source": [
    "## Statistic description on numeric variables"
   ]
  },
  {
   "cell_type": "code",
   "execution_count": 156,
   "id": "6a653d9a",
   "metadata": {},
   "outputs": [
    {
     "data": {
      "text/html": [
       "<div>\n",
       "<style scoped>\n",
       "    .dataframe tbody tr th:only-of-type {\n",
       "        vertical-align: middle;\n",
       "    }\n",
       "\n",
       "    .dataframe tbody tr th {\n",
       "        vertical-align: top;\n",
       "    }\n",
       "\n",
       "    .dataframe thead th {\n",
       "        text-align: right;\n",
       "    }\n",
       "</style>\n",
       "<table border=\"1\" class=\"dataframe\">\n",
       "  <thead>\n",
       "    <tr style=\"text-align: right;\">\n",
       "      <th></th>\n",
       "      <th>Unnamed: 0</th>\n",
       "      <th>age</th>\n",
       "      <th>days_since_last_login</th>\n",
       "      <th>avg_time_spent</th>\n",
       "      <th>avg_transaction_value</th>\n",
       "      <th>points_in_wallet</th>\n",
       "      <th>churn_risk_score</th>\n",
       "    </tr>\n",
       "  </thead>\n",
       "  <tbody>\n",
       "    <tr>\n",
       "      <th>count</th>\n",
       "      <td>36992.000000</td>\n",
       "      <td>36992.000000</td>\n",
       "      <td>36992.000000</td>\n",
       "      <td>36992.000000</td>\n",
       "      <td>36992.000000</td>\n",
       "      <td>33549.000000</td>\n",
       "      <td>36992.000000</td>\n",
       "    </tr>\n",
       "    <tr>\n",
       "      <th>mean</th>\n",
       "      <td>18495.500000</td>\n",
       "      <td>37.118161</td>\n",
       "      <td>-41.915576</td>\n",
       "      <td>243.472334</td>\n",
       "      <td>29271.194003</td>\n",
       "      <td>686.882199</td>\n",
       "      <td>0.265652</td>\n",
       "    </tr>\n",
       "    <tr>\n",
       "      <th>std</th>\n",
       "      <td>10678.814916</td>\n",
       "      <td>15.867412</td>\n",
       "      <td>228.819900</td>\n",
       "      <td>398.289149</td>\n",
       "      <td>19444.806226</td>\n",
       "      <td>194.063624</td>\n",
       "      <td>0.441686</td>\n",
       "    </tr>\n",
       "    <tr>\n",
       "      <th>min</th>\n",
       "      <td>0.000000</td>\n",
       "      <td>10.000000</td>\n",
       "      <td>-999.000000</td>\n",
       "      <td>-2814.109110</td>\n",
       "      <td>800.460000</td>\n",
       "      <td>-760.661236</td>\n",
       "      <td>0.000000</td>\n",
       "    </tr>\n",
       "    <tr>\n",
       "      <th>25%</th>\n",
       "      <td>9247.750000</td>\n",
       "      <td>23.000000</td>\n",
       "      <td>8.000000</td>\n",
       "      <td>60.102500</td>\n",
       "      <td>14177.540000</td>\n",
       "      <td>616.150000</td>\n",
       "      <td>0.000000</td>\n",
       "    </tr>\n",
       "    <tr>\n",
       "      <th>50%</th>\n",
       "      <td>18495.500000</td>\n",
       "      <td>37.000000</td>\n",
       "      <td>12.000000</td>\n",
       "      <td>161.765000</td>\n",
       "      <td>27554.485000</td>\n",
       "      <td>697.620000</td>\n",
       "      <td>0.000000</td>\n",
       "    </tr>\n",
       "    <tr>\n",
       "      <th>75%</th>\n",
       "      <td>27743.250000</td>\n",
       "      <td>51.000000</td>\n",
       "      <td>16.000000</td>\n",
       "      <td>356.515000</td>\n",
       "      <td>40855.110000</td>\n",
       "      <td>763.950000</td>\n",
       "      <td>1.000000</td>\n",
       "    </tr>\n",
       "    <tr>\n",
       "      <th>max</th>\n",
       "      <td>36991.000000</td>\n",
       "      <td>64.000000</td>\n",
       "      <td>26.000000</td>\n",
       "      <td>3235.578521</td>\n",
       "      <td>99914.050000</td>\n",
       "      <td>2069.069761</td>\n",
       "      <td>1.000000</td>\n",
       "    </tr>\n",
       "  </tbody>\n",
       "</table>\n",
       "</div>"
      ],
      "text/plain": [
       "         Unnamed: 0           age  days_since_last_login  avg_time_spent  \\\n",
       "count  36992.000000  36992.000000           36992.000000    36992.000000   \n",
       "mean   18495.500000     37.118161             -41.915576      243.472334   \n",
       "std    10678.814916     15.867412             228.819900      398.289149   \n",
       "min        0.000000     10.000000            -999.000000    -2814.109110   \n",
       "25%     9247.750000     23.000000               8.000000       60.102500   \n",
       "50%    18495.500000     37.000000              12.000000      161.765000   \n",
       "75%    27743.250000     51.000000              16.000000      356.515000   \n",
       "max    36991.000000     64.000000              26.000000     3235.578521   \n",
       "\n",
       "       avg_transaction_value  points_in_wallet  churn_risk_score  \n",
       "count           36992.000000      33549.000000      36992.000000  \n",
       "mean            29271.194003        686.882199          0.265652  \n",
       "std             19444.806226        194.063624          0.441686  \n",
       "min               800.460000       -760.661236          0.000000  \n",
       "25%             14177.540000        616.150000          0.000000  \n",
       "50%             27554.485000        697.620000          0.000000  \n",
       "75%             40855.110000        763.950000          1.000000  \n",
       "max             99914.050000       2069.069761          1.000000  "
      ]
     },
     "execution_count": 156,
     "metadata": {},
     "output_type": "execute_result"
    }
   ],
   "source": [
    "df.describe()# only returns numeric analysis"
   ]
  },
  {
   "cell_type": "markdown",
   "id": "c0e8c8bc",
   "metadata": {},
   "source": [
    "## Imbalanced dataset based on Churn status"
   ]
  },
  {
   "cell_type": "code",
   "execution_count": 157,
   "id": "d740da30",
   "metadata": {},
   "outputs": [
    {
     "data": {
      "image/png": "[encoded data removed]",
      "text/plain": [
       "<Figure size 640x480 with 1 Axes>"
      ]
     },
     "metadata": {},
     "output_type": "display_data"
    },
    {
     "name": "stdout",
     "output_type": "stream",
     "text": [
      "Percentage of positive churn outcome: 0.2656520328719723*\n"
     ]
    }
   ],
   "source": [
    "sns.countplot(x=df['churn_risk_score'])\n",
    "plt.title('Churn')\n",
    "plt.show()\n",
    "\n",
    "print(f\"Percentage of positive churn outcome: {df['churn_risk_score'].sum()/len(df)}*\")\n"
   ]
  },
  {
   "cell_type": "markdown",
   "id": "ec78201c",
   "metadata": {},
   "source": [
    "## Plot Categorical  variables by churn status"
   ]
  },
  {
   "cell_type": "code",
   "execution_count": 158,
   "id": "e39389c5",
   "metadata": {},
   "outputs": [
    {
     "data": {
      "image/png": "[encoded data removed]",
      "text/plain": [
       "<Figure size 1600x1200 with 12 Axes>"
      ]
     },
     "metadata": {},
     "output_type": "display_data"
    }
   ],
   "source": [
    "fig, axes = plt.subplots(nrows=6, ncols=2, figsize=(16,12))\n",
    "\n",
    "sns.countplot(x=\"gender\", hue=\"churn_risk_score\", data=df, ax=axes[0,0])\n",
    "\n",
    "sns.countplot(x=\"region_category\", hue=\"churn_risk_score\", data=df, ax=axes[0,1])\n",
    "\n",
    "sns.countplot(x=\"joined_through_referral\", hue=\"churn_risk_score\", data=df, ax=axes[1,0])\n",
    " \n",
    "sns.countplot(x=\"preferred_offer_types\", hue=\"churn_risk_score\", data=df, ax=axes[1,1])\n",
    "\n",
    "sns.countplot(x=\"medium_of_operation\", hue=\"churn_risk_score\", data=df, ax=axes[2,0])\n",
    "\n",
    "sns.countplot(x=\"internet_option\", hue=\"churn_risk_score\", data=df, ax=axes[2,1])\n",
    "\n",
    "sns.countplot(x=\"used_special_discount\", hue=\"churn_risk_score\", data=df, ax=axes[3,0])\n",
    "\n",
    "sns.countplot(x=\"offer_application_preference\", hue=\"churn_risk_score\", data=df,ax=axes[3,1])\n",
    "\n",
    "sns.countplot(x=\"past_complaint\", hue=\"churn_risk_score\", data=df, ax=axes[4,0])\n",
    "\n",
    "sns.countplot(x=\"feedback\", hue=\"churn_risk_score\", data=df, ax=axes[4,1])\n",
    "\n",
    "sns.countplot(x=\"complaint_status\", hue=\"churn_risk_score\", data=df, ax=axes[5,0])\n",
    "\n",
    "sns.countplot(x=\"membership_category\", hue=\"churn_risk_score\", data=df, ax=axes[5,1])\n",
    "#sns.countplot(x=\"points_in_wallet\", hue=\"churn_risk_score\", data=df, ax=axes[5,1])\n",
    "\n",
    "\n",
    "plt.tight_layout()\n",
    "plt.show()"
   ]
  },
  {
   "cell_type": "markdown",
   "id": "e4c0a5d0",
   "metadata": {},
   "source": [
    "### It looks 'membership_category' and  'feedback' in the categorical variables is related to churn rate"
   ]
  },
  {
   "cell_type": "markdown",
   "id": "8c280eec",
   "metadata": {},
   "source": [
    "## Plot Numeric  variable bins by churn status"
   ]
  },
  {
   "cell_type": "code",
   "execution_count": null,
   "id": "3792e9ca",
   "metadata": {},
   "outputs": [],
   "source": [
    "fig, axes = plt.subplots(nrows=5, ncols=1, figsize=(16,12))\n",
    "\n",
    "df['age_bins'] = pd.cut(df['age'].copy(), bins=10)\n",
    "sns.countplot(x='age_bins', hue='churn_risk_score', data=df,ax=axes[0])\n",
    "\n",
    "df['avg_transaction_value_bins'] = pd.cut(df['avg_transaction_value'].copy(), bins=10)\n",
    "sns.countplot(x='avg_transaction_value_bins', hue='churn_risk_score', data=df,ax=axes[1])\n",
    "\n",
    "df['points_in_wallet_bins'] = pd.cut(df['points_in_wallet'].copy(), bins=10)\n",
    "sns.countplot(x='points_in_wallet_bins', hue='churn_risk_score', data=df,ax=axes[2])\n",
    "\n",
    "df['avg_time_spent_bins'] = pd.cut(df['avg_time_spent'].copy(), bins=10)\n",
    "sns.countplot(x='avg_time_spent_bins', hue='churn_risk_score', data=df,ax=axes[3])\n",
    "\n",
    "\n",
    "df['days_since_last_login_bins'] = pd.cut(df['days_since_last_login'].copy(), bins=10)\n",
    "sns.countplot(x='days_since_last_login_bins', hue='churn_risk_score', data=df,ax=axes[4])\n",
    "\n",
    "\n",
    "plt.tight_layout()\n",
    "plt.show()\n"
   ]
  },
  {
   "cell_type": "code",
   "execution_count": 201,
   "id": "13d23712",
   "metadata": {},
   "outputs": [
    {
     "data": {
      "text/plain": [
       "<AxesSubplot:>"
      ]
     },
     "execution_count": 201,
     "metadata": {},
     "output_type": "execute_result"
    },
    {
     "data": {
      "image/png": "[encoded data removed]",
      "text/plain": [
       "<Figure size 640x480 with 1 Axes>"
      ]
     },
     "metadata": {},
     "output_type": "display_data"
    }
   ],
   "source": [
    "df.joining_date.value_counts().plot()"
   ]
  },
  {
   "cell_type": "markdown",
   "id": "ba8e86ab",
   "metadata": {},
   "source": [
    "# Data split\n"
   ]
  },
  {
   "cell_type": "code",
   "execution_count": null,
   "id": "faf793e6",
   "metadata": {},
   "outputs": [],
   "source": []
  },
  {
   "cell_type": "code",
   "execution_count": 167,
   "id": "0f248fd2",
   "metadata": {},
   "outputs": [],
   "source": [
    "X = df.drop(['churn_risk_score'],axis =1)\n",
    "\n",
    "y = df['churn_risk_score']\n",
    "\n",
    "X_train, X_test, y_train, y_test = train_test_split(X,y, test_size=0.20, random_state=42)"
   ]
  },
  {
   "cell_type": "code",
   "execution_count": 169,
   "id": "1dec0981",
   "metadata": {},
   "outputs": [
    {
     "name": "stdout",
     "output_type": "stream",
     "text": [
      "Train data shape: (29593, 25)\n",
      "Test data shape: (7399, 25)\n"
     ]
    }
   ],
   "source": [
    "print('Train data shape:', X_train.shape)\n",
    "print('Test data shape:',X_test.shape)"
   ]
  },
  {
   "cell_type": "code",
   "execution_count": 170,
   "id": "31495dd7",
   "metadata": {},
   "outputs": [
    {
     "data": {
      "image/png": "[encoded data removed]",
      "text/plain": [
       "<Figure size 640x480 with 1 Axes>"
      ]
     },
     "metadata": {},
     "output_type": "display_data"
    }
   ],
   "source": [
    "sns.countplot(x=df['churn_risk_score'])\n",
    "plt.title('Churn')\n",
    "plt.show()\n"
   ]
  },
  {
   "cell_type": "markdown",
   "id": "b10845a1",
   "metadata": {},
   "source": [
    "# Feature engineering"
   ]
  },
  {
   "cell_type": "code",
   "execution_count": 190,
   "id": "26b9b947",
   "metadata": {},
   "outputs": [],
   "source": [
    "cat_df = X_train.select_dtypes(exclude =[np.number])\n",
    "num_df = X_train.select_dtypes(include=[np.number])"
   ]
  },
  {
   "cell_type": "code",
   "execution_count": 229,
   "id": "dd31dc2d",
   "metadata": {},
   "outputs": [
    {
     "data": {
      "text/plain": [
       "Index(['customer_id', 'Name', 'gender', 'security_no', 'region_category',\n",
       "       'membership_category', 'joining_date', 'joined_through_referral',\n",
       "       'referral_id', 'preferred_offer_types', 'medium_of_operation',\n",
       "       'internet_option', 'last_visit_time', 'avg_frequency_login_days',\n",
       "       'used_special_discount', 'offer_application_preference',\n",
       "       'past_complaint', 'complaint_status', 'feedback'],\n",
       "      dtype='object')"
      ]
     },
     "execution_count": 229,
     "metadata": {},
     "output_type": "execute_result"
    }
   ],
   "source": [
    "cat_df.columns"
   ]
  },
  {
   "cell_type": "code",
   "execution_count": 232,
   "id": "53741479",
   "metadata": {},
   "outputs": [
    {
     "data": {
      "text/plain": [
       "Index(['Unnamed: 0', 'age', 'days_since_last_login', 'avg_time_spent',\n",
       "       'avg_transaction_value', 'points_in_wallet'],\n",
       "      dtype='object')"
      ]
     },
     "execution_count": 232,
     "metadata": {},
     "output_type": "execute_result"
    }
   ],
   "source": [
    "num_df.columns"
   ]
  },
  {
   "cell_type": "code",
   "execution_count": 236,
   "id": "ffe6aa00",
   "metadata": {},
   "outputs": [
    {
     "data": {
      "text/plain": [
       "{'age',\n",
       " 'avg_time_spent',\n",
       " 'avg_transaction_value',\n",
       " 'days_since_last_login',\n",
       " 'points_in_wallet'}"
      ]
     },
     "execution_count": 236,
     "metadata": {},
     "output_type": "execute_result"
    }
   ],
   "source": [
    "num_columns = set(num_df)-{'Unnamed: 0'}\n",
    "num_columns"
   ]
  },
  {
   "cell_type": "code",
   "execution_count": 237,
   "id": "df59ea84",
   "metadata": {},
   "outputs": [],
   "source": [
    "cat_columns = set(cat_df) - {'Name','security_no','customer_id', 'joining_date','last_visit_time', 'referral_id'}"
   ]
  },
  {
   "cell_type": "code",
   "execution_count": 238,
   "id": "f53909ff",
   "metadata": {},
   "outputs": [
    {
     "data": {
      "text/plain": [
       "{'avg_frequency_login_days',\n",
       " 'complaint_status',\n",
       " 'feedback',\n",
       " 'gender',\n",
       " 'internet_option',\n",
       " 'joined_through_referral',\n",
       " 'medium_of_operation',\n",
       " 'membership_category',\n",
       " 'offer_application_preference',\n",
       " 'past_complaint',\n",
       " 'preferred_offer_types',\n",
       " 'region_category',\n",
       " 'used_special_discount'}"
      ]
     },
     "execution_count": 238,
     "metadata": {},
     "output_type": "execute_result"
    }
   ],
   "source": [
    "cat_columns"
   ]
  },
  {
   "cell_type": "markdown",
   "id": "9607ffc2",
   "metadata": {},
   "source": [
    "## Transform the Traning data¶"
   ]
  },
  {
   "cell_type": "code",
   "execution_count": 239,
   "id": "3f2928d6",
   "metadata": {},
   "outputs": [],
   "source": [
    "import numpy as np\n",
    "\n",
    "from sklearn.compose import ColumnTransformer\n",
    "from sklearn.datasets import fetch_openml\n",
    "from sklearn.pipeline import Pipeline\n",
    "from sklearn.impute import SimpleImputer\n",
    "from sklearn.preprocessing import StandardScaler, OneHotEncoder, OrdinalEncoder\n",
    "from sklearn.linear_model import LogisticRegression\n",
    "from sklearn.model_selection import train_test_split, GridSearchCV"
   ]
  },
  {
   "cell_type": "code",
   "execution_count": 240,
   "id": "2a47237e",
   "metadata": {},
   "outputs": [],
   "source": [
    "numeric_transformer = Pipeline(\n",
    "    steps=[(\"imputer_num\", SimpleImputer(strategy=\"median\")), (\"scaler\", StandardScaler())]\n",
    ")\n",
    "\n",
    "\n",
    "categorical_transformer = Pipeline(steps=[(\"imputer_cat\", \n",
    "                                           SimpleImputer(strategy=\"most_frequent\")), (\"encode\", OrdinalEncoder())])\n"
   ]
  },
  {
   "cell_type": "code",
   "execution_count": 242,
   "id": "72f976ff",
   "metadata": {},
   "outputs": [
    {
     "ename": "AttributeError",
     "evalue": "'set' object has no attribute 'columns'",
     "output_type": "error",
     "traceback": [
      "\u001b[1;31m---------------------------------------------------------------------------\u001b[0m",
      "\u001b[1;31mAttributeError\u001b[0m                            Traceback (most recent call last)",
      "\u001b[1;32m~\\AppData\\Local\\Temp\\ipykernel_13688\\1235760631.py\u001b[0m in \u001b[0;36m<module>\u001b[1;34m\u001b[0m\n\u001b[0;32m      1\u001b[0m preprocessor = ColumnTransformer(\n\u001b[0;32m      2\u001b[0m     transformers=[\n\u001b[1;32m----> 3\u001b[1;33m         \u001b[1;33m(\u001b[0m\u001b[1;34m\"num\"\u001b[0m\u001b[1;33m,\u001b[0m \u001b[0mnumeric_transformer\u001b[0m\u001b[1;33m,\u001b[0m \u001b[0mlist\u001b[0m\u001b[1;33m(\u001b[0m\u001b[0mnum_df\u001b[0m\u001b[1;33m.\u001b[0m\u001b[0mcolumns\u001b[0m\u001b[1;33m)\u001b[0m\u001b[1;33m)\u001b[0m\u001b[1;33m,\u001b[0m\u001b[1;33m\u001b[0m\u001b[1;33m\u001b[0m\u001b[0m\n\u001b[0m\u001b[0;32m      4\u001b[0m         \u001b[1;33m(\u001b[0m\u001b[1;34m\"cat\"\u001b[0m\u001b[1;33m,\u001b[0m \u001b[0mcategorical_transformer\u001b[0m\u001b[1;33m,\u001b[0m \u001b[0mlist\u001b[0m\u001b[1;33m(\u001b[0m\u001b[0mcat_columns\u001b[0m\u001b[1;33m)\u001b[0m\u001b[1;33m)\u001b[0m\u001b[1;33m,\u001b[0m\u001b[1;33m\u001b[0m\u001b[1;33m\u001b[0m\u001b[0m\n\u001b[0;32m      5\u001b[0m     ]\n",
      "\u001b[1;31mAttributeError\u001b[0m: 'set' object has no attribute 'columns'"
     ]
    }
   ],
   "source": [
    "\n",
    "preprocessor = ColumnTransformer(\n",
    "    transformers=[\n",
    "        (\"num\", numeric_transformer, list(num_df.columns)),\n",
    "        (\"cat\", categorical_transformer, list(cat_columns)),\n",
    "    ]\n",
    ")\n",
    "\n",
    "\n",
    "\n",
    "clf = Pipeline(\n",
    "    steps=[(\"preprocessor\", preprocessor)]\n",
    ")\n",
    "\n",
    "clf_fit = clf.fit(X_train)\n",
    "\n",
    "X_train_tranformed = pd.DataFrame(clf_fit.transform(X_train))"
   ]
  },
  {
   "cell_type": "code",
   "execution_count": 243,
   "id": "913ab844",
   "metadata": {},
   "outputs": [
    {
     "data": {
      "text/plain": [
       "array(['num__Unnamed: 0', 'num__age', 'num__days_since_last_login',\n",
       "       'num__avg_time_spent', 'num__avg_transaction_value',\n",
       "       'num__points_in_wallet', 'cat__complaint_status',\n",
       "       'cat__internet_option', 'cat__feedback',\n",
       "       'cat__medium_of_operation', 'cat__used_special_discount',\n",
       "       'cat__gender', 'cat__offer_application_preference',\n",
       "       'cat__region_category', 'cat__avg_frequency_login_days',\n",
       "       'cat__membership_category', 'cat__past_complaint',\n",
       "       'cat__preferred_offer_types', 'cat__joined_through_referral'],\n",
       "      dtype=object)"
      ]
     },
     "execution_count": 243,
     "metadata": {},
     "output_type": "execute_result"
    }
   ],
   "source": [
    "clf_fit.get_feature_names_out()"
   ]
  },
  {
   "cell_type": "code",
   "execution_count": 1,
   "id": "089972d1",
   "metadata": {},
   "outputs": [
    {
     "ename": "NameError",
     "evalue": "name 'df' is not defined",
     "output_type": "error",
     "traceback": [
      "\u001b[1;31m---------------------------------------------------------------------------\u001b[0m",
      "\u001b[1;31mNameError\u001b[0m                                 Traceback (most recent call last)",
      "\u001b[1;32m~\\AppData\\Local\\Temp\\ipykernel_9688\\1396537375.py\u001b[0m in \u001b[0;36m<module>\u001b[1;34m\u001b[0m\n\u001b[1;32m----> 1\u001b[1;33m \u001b[0mdf\u001b[0m\u001b[1;33m\u001b[0m\u001b[1;33m\u001b[0m\u001b[0m\n\u001b[0m",
      "\u001b[1;31mNameError\u001b[0m: name 'df' is not defined"
     ]
    }
   ],
   "source": [
    "df"
   ]
  },
  {
   "cell_type": "code",
   "execution_count": null,
   "id": "6d0072db",
   "metadata": {},
   "outputs": [],
   "source": []
  },
  {
   "cell_type": "code",
   "execution_count": null,
   "id": "5ac5fad3",
   "metadata": {},
   "outputs": [],
   "source": []
  },
  {
   "cell_type": "markdown",
   "id": "fd99a61a",
   "metadata": {},
   "source": [
    "##  Check regular missing values"
   ]
  },
  {
   "cell_type": "code",
   "execution_count": 94,
   "id": "d8691525",
   "metadata": {},
   "outputs": [
    {
     "data": {
      "text/html": [
       "<div>\n",
       "<style scoped>\n",
       "    .dataframe tbody tr th:only-of-type {\n",
       "        vertical-align: middle;\n",
       "    }\n",
       "\n",
       "    .dataframe tbody tr th {\n",
       "        vertical-align: top;\n",
       "    }\n",
       "\n",
       "    .dataframe thead th {\n",
       "        text-align: right;\n",
       "    }\n",
       "</style>\n",
       "<table border=\"1\" class=\"dataframe\">\n",
       "  <thead>\n",
       "    <tr style=\"text-align: right;\">\n",
       "      <th></th>\n",
       "      <th>missing_values</th>\n",
       "      <th>percentage</th>\n",
       "    </tr>\n",
       "  </thead>\n",
       "  <tbody>\n",
       "    <tr>\n",
       "      <th>region_category</th>\n",
       "      <td>4366</td>\n",
       "      <td>14.753489</td>\n",
       "    </tr>\n",
       "    <tr>\n",
       "      <th>points_in_wallet_bins</th>\n",
       "      <td>2714</td>\n",
       "      <td>9.171088</td>\n",
       "    </tr>\n",
       "    <tr>\n",
       "      <th>points_in_wallet</th>\n",
       "      <td>2714</td>\n",
       "      <td>9.171088</td>\n",
       "    </tr>\n",
       "    <tr>\n",
       "      <th>preferred_offer_types</th>\n",
       "      <td>228</td>\n",
       "      <td>0.770452</td>\n",
       "    </tr>\n",
       "    <tr>\n",
       "      <th>Unnamed: 0</th>\n",
       "      <td>0</td>\n",
       "      <td>0.000000</td>\n",
       "    </tr>\n",
       "    <tr>\n",
       "      <th>avg_time_spent</th>\n",
       "      <td>0</td>\n",
       "      <td>0.000000</td>\n",
       "    </tr>\n",
       "    <tr>\n",
       "      <th>avg_time_spent_bins</th>\n",
       "      <td>0</td>\n",
       "      <td>0.000000</td>\n",
       "    </tr>\n",
       "    <tr>\n",
       "      <th>avg_transaction_value_bins</th>\n",
       "      <td>0</td>\n",
       "      <td>0.000000</td>\n",
       "    </tr>\n",
       "    <tr>\n",
       "      <th>age_bins</th>\n",
       "      <td>0</td>\n",
       "      <td>0.000000</td>\n",
       "    </tr>\n",
       "    <tr>\n",
       "      <th>feedback</th>\n",
       "      <td>0</td>\n",
       "      <td>0.000000</td>\n",
       "    </tr>\n",
       "    <tr>\n",
       "      <th>complaint_status</th>\n",
       "      <td>0</td>\n",
       "      <td>0.000000</td>\n",
       "    </tr>\n",
       "    <tr>\n",
       "      <th>past_complaint</th>\n",
       "      <td>0</td>\n",
       "      <td>0.000000</td>\n",
       "    </tr>\n",
       "    <tr>\n",
       "      <th>offer_application_preference</th>\n",
       "      <td>0</td>\n",
       "      <td>0.000000</td>\n",
       "    </tr>\n",
       "    <tr>\n",
       "      <th>used_special_discount</th>\n",
       "      <td>0</td>\n",
       "      <td>0.000000</td>\n",
       "    </tr>\n",
       "    <tr>\n",
       "      <th>avg_frequency_login_days</th>\n",
       "      <td>0</td>\n",
       "      <td>0.000000</td>\n",
       "    </tr>\n",
       "    <tr>\n",
       "      <th>avg_transaction_value</th>\n",
       "      <td>0</td>\n",
       "      <td>0.000000</td>\n",
       "    </tr>\n",
       "    <tr>\n",
       "      <th>days_since_last_login</th>\n",
       "      <td>0</td>\n",
       "      <td>0.000000</td>\n",
       "    </tr>\n",
       "    <tr>\n",
       "      <th>customer_id</th>\n",
       "      <td>0</td>\n",
       "      <td>0.000000</td>\n",
       "    </tr>\n",
       "    <tr>\n",
       "      <th>last_visit_time</th>\n",
       "      <td>0</td>\n",
       "      <td>0.000000</td>\n",
       "    </tr>\n",
       "    <tr>\n",
       "      <th>internet_option</th>\n",
       "      <td>0</td>\n",
       "      <td>0.000000</td>\n",
       "    </tr>\n",
       "    <tr>\n",
       "      <th>medium_of_operation</th>\n",
       "      <td>0</td>\n",
       "      <td>0.000000</td>\n",
       "    </tr>\n",
       "    <tr>\n",
       "      <th>referral_id</th>\n",
       "      <td>0</td>\n",
       "      <td>0.000000</td>\n",
       "    </tr>\n",
       "    <tr>\n",
       "      <th>joined_through_referral</th>\n",
       "      <td>0</td>\n",
       "      <td>0.000000</td>\n",
       "    </tr>\n",
       "    <tr>\n",
       "      <th>joining_date</th>\n",
       "      <td>0</td>\n",
       "      <td>0.000000</td>\n",
       "    </tr>\n",
       "    <tr>\n",
       "      <th>membership_category</th>\n",
       "      <td>0</td>\n",
       "      <td>0.000000</td>\n",
       "    </tr>\n",
       "    <tr>\n",
       "      <th>security_no</th>\n",
       "      <td>0</td>\n",
       "      <td>0.000000</td>\n",
       "    </tr>\n",
       "    <tr>\n",
       "      <th>gender</th>\n",
       "      <td>0</td>\n",
       "      <td>0.000000</td>\n",
       "    </tr>\n",
       "    <tr>\n",
       "      <th>age</th>\n",
       "      <td>0</td>\n",
       "      <td>0.000000</td>\n",
       "    </tr>\n",
       "    <tr>\n",
       "      <th>Name</th>\n",
       "      <td>0</td>\n",
       "      <td>0.000000</td>\n",
       "    </tr>\n",
       "    <tr>\n",
       "      <th>days_since_last_login_bins</th>\n",
       "      <td>0</td>\n",
       "      <td>0.000000</td>\n",
       "    </tr>\n",
       "  </tbody>\n",
       "</table>\n",
       "</div>"
      ],
      "text/plain": [
       "                              missing_values  percentage\n",
       "region_category                         4366   14.753489\n",
       "points_in_wallet_bins                   2714    9.171088\n",
       "points_in_wallet                        2714    9.171088\n",
       "preferred_offer_types                    228    0.770452\n",
       "Unnamed: 0                                 0    0.000000\n",
       "avg_time_spent                             0    0.000000\n",
       "avg_time_spent_bins                        0    0.000000\n",
       "avg_transaction_value_bins                 0    0.000000\n",
       "age_bins                                   0    0.000000\n",
       "feedback                                   0    0.000000\n",
       "complaint_status                           0    0.000000\n",
       "past_complaint                             0    0.000000\n",
       "offer_application_preference               0    0.000000\n",
       "used_special_discount                      0    0.000000\n",
       "avg_frequency_login_days                   0    0.000000\n",
       "avg_transaction_value                      0    0.000000\n",
       "days_since_last_login                      0    0.000000\n",
       "customer_id                                0    0.000000\n",
       "last_visit_time                            0    0.000000\n",
       "internet_option                            0    0.000000\n",
       "medium_of_operation                        0    0.000000\n",
       "referral_id                                0    0.000000\n",
       "joined_through_referral                    0    0.000000\n",
       "joining_date                               0    0.000000\n",
       "membership_category                        0    0.000000\n",
       "security_no                                0    0.000000\n",
       "gender                                     0    0.000000\n",
       "age                                        0    0.000000\n",
       "Name                                       0    0.000000\n",
       "days_since_last_login_bins                 0    0.000000"
      ]
     },
     "execution_count": 94,
     "metadata": {},
     "output_type": "execute_result"
    }
   ],
   "source": [
    "missing_check = pd.DataFrame(\n",
    "    {'missing_values': X_train.isnull().sum(),\n",
    "    'percentage': X_train.isnull().sum()*100 / X_train.shape[0]})\n",
    "missing_check.sort_values(by= 'percentage',ascending = False)"
   ]
  },
  {
   "cell_type": "code",
   "execution_count": 65,
   "id": "b71e9269",
   "metadata": {},
   "outputs": [],
   "source": [
    "df.dropna(inplace = True)"
   ]
  },
  {
   "cell_type": "markdown",
   "id": "91bf7313",
   "metadata": {},
   "source": [
    "NOTE :  \n",
    "Some missing values may have other forms than NaN, so continue to check these non-standard missing values"
   ]
  },
  {
   "cell_type": "markdown",
   "id": "29b8fba4",
   "metadata": {},
   "source": [
    "##  Plot categorical variables to check possible missing values"
   ]
  },
  {
   "cell_type": "code",
   "execution_count": 95,
   "id": "206f9c0a",
   "metadata": {},
   "outputs": [
    {
     "name": "stdout",
     "output_type": "stream",
     "text": [
      "<class 'pandas.core.frame.DataFrame'>\n",
      "Int64Index: 29593 entries, 3313 to 15795\n",
      "Data columns (total 30 columns):\n",
      " #   Column                        Non-Null Count  Dtype   \n",
      "---  ------                        --------------  -----   \n",
      " 0   Unnamed: 0                    29593 non-null  int64   \n",
      " 1   customer_id                   29593 non-null  object  \n",
      " 2   Name                          29593 non-null  object  \n",
      " 3   age                           29593 non-null  int64   \n",
      " 4   gender                        29593 non-null  object  \n",
      " 5   security_no                   29593 non-null  object  \n",
      " 6   region_category               25227 non-null  object  \n",
      " 7   membership_category           29593 non-null  object  \n",
      " 8   joining_date                  29593 non-null  object  \n",
      " 9   joined_through_referral       29593 non-null  object  \n",
      " 10  referral_id                   29593 non-null  object  \n",
      " 11  preferred_offer_types         29365 non-null  object  \n",
      " 12  medium_of_operation           29593 non-null  object  \n",
      " 13  internet_option               29593 non-null  object  \n",
      " 14  last_visit_time               29593 non-null  object  \n",
      " 15  days_since_last_login         29593 non-null  int64   \n",
      " 16  avg_time_spent                29593 non-null  float64 \n",
      " 17  avg_transaction_value         29593 non-null  float64 \n",
      " 18  avg_frequency_login_days      29593 non-null  object  \n",
      " 19  points_in_wallet              26879 non-null  float64 \n",
      " 20  used_special_discount         29593 non-null  object  \n",
      " 21  offer_application_preference  29593 non-null  object  \n",
      " 22  past_complaint                29593 non-null  object  \n",
      " 23  complaint_status              29593 non-null  object  \n",
      " 24  feedback                      29593 non-null  object  \n",
      " 25  age_bins                      29593 non-null  category\n",
      " 26  avg_transaction_value_bins    29593 non-null  category\n",
      " 27  points_in_wallet_bins         26879 non-null  category\n",
      " 28  avg_time_spent_bins           29593 non-null  category\n",
      " 29  days_since_last_login_bins    29593 non-null  category\n",
      "dtypes: category(5), float64(3), int64(3), object(19)\n",
      "memory usage: 6.0+ MB\n"
     ]
    }
   ],
   "source": [
    "X_train.info()"
   ]
  },
  {
   "cell_type": "code",
   "execution_count": 96,
   "id": "5e56b8d4",
   "metadata": {},
   "outputs": [
    {
     "data": {
      "text/plain": [
       "array([<AxesSubplot:ylabel='medium_of_operation'>], dtype=object)"
      ]
     },
     "execution_count": 96,
     "metadata": {},
     "output_type": "execute_result"
    },
    {
     "data": {
      "image/png": "[encoded data removed]",
      "text/plain": [
       "<Figure size 1600x800 with 3 Axes>"
      ]
     },
     "metadata": {},
     "output_type": "display_data"
    }
   ],
   "source": [
    "figure, ax = plt.subplots(1, 3,figsize=(16,8))\n",
    "X_train.gender.value_counts().plot(kind = 'pie', ax = ax[0], subplots=True)\n",
    "X_train.joined_through_referral.value_counts().plot(kind = 'pie', ax = ax[1], subplots=True)\n",
    "X_train.medium_of_operation.value_counts().plot(kind = 'pie', ax = ax[2], subplots=True)"
   ]
  },
  {
   "cell_type": "markdown",
   "id": "593f0ce8",
   "metadata": {},
   "source": [
    "From above,  we see several   '?'  and  'unknown' , which are supposed to be missing values"
   ]
  },
  {
   "cell_type": "markdown",
   "id": "a29ada42",
   "metadata": {},
   "source": [
    "### Initial approach for  missing value handling: dropping"
   ]
  },
  {
   "cell_type": "code",
   "execution_count": null,
   "id": "01145c4a",
   "metadata": {},
   "outputs": [],
   "source": [
    "class missing_value_transformer (object):\n",
    "    def __init__(self):\n",
    "         \n",
    "    \n",
    "    def fit(self, X, y=None):\n",
    "        df = pd.DataFrame()\n",
    "        df['ingredient']=X.ingredient.apply(self.count)\n",
    "        self.median = df.median()\n",
    "            \n",
    "    def transform(self,X, y = None):\n",
    "        df = pd.DataFrame()\n",
    "        df['ingredient']=X.ingredient.apply(self.count)\n",
    "        return df.fillna(self.median)\n",
    "    \n",
    "    def fit_transform(self, X, y=None):\n",
    "        self.fit(X)\n",
    "        return self.transform(X)\n",
    "    \n",
    "    def count(self,x):\n",
    "        if type(x) == str: \n",
    "            return len(x.split(','))\n",
    "        \n",
    "        "
   ]
  },
  {
   "cell_type": "code",
   "execution_count": null,
   "id": "0e7ac6ba",
   "metadata": {},
   "outputs": [],
   "source": []
  },
  {
   "cell_type": "code",
   "execution_count": null,
   "id": "f0d4342d",
   "metadata": {},
   "outputs": [],
   "source": []
  },
  {
   "cell_type": "code",
   "execution_count": 98,
   "id": "a77133e6",
   "metadata": {},
   "outputs": [],
   "source": [
    "\n",
    "X_train['joined_through_referral'] = X_train['joined_through_referral'].replace('?',np.NaN)\n",
    "X_train['gender'] = X_train['gender'].replace('Unknown',np.NaN)\n",
    "X_train['medium_of_operation'] = X_train['medium_of_operation'].replace('?',np.NaN)\n",
    "X_train.dropna(inplace= True)\n",
    "\n",
    "X_train['joined_through_referral'] = X_train['joined_through_referral'].replace('?',np.NaN)\n",
    "X_train['gender'] = X_train['gender'].replace('Unknown',np.NaN)\n",
    "X_train['medium_of_operation'] = X_train['medium_of_operation'].replace('?',np.NaN)\n",
    "X_train.dropna(inplace= True)"
   ]
  },
  {
   "cell_type": "markdown",
   "id": "5526af3e",
   "metadata": {},
   "source": [
    "###  Alternative approach for missing value handling, impute them into mode ()"
   ]
  },
  {
   "cell_type": "code",
   "execution_count": 69,
   "id": "35feeca8",
   "metadata": {},
   "outputs": [],
   "source": [
    "# Missing_cat = df[['gender','preferred_offer_types','region_category','joined_through_referral','medium_of_operation']]\n",
    "# for i,col in enumerate(Missing_cat):\n",
    "#     df[col].fillna(df[col].mode()[0], inplace=True)\n",
    "\n",
    "\n",
    "#### We will use both approaches seperately to train the model later on"
   ]
  },
  {
   "cell_type": "markdown",
   "id": "0a54ed58",
   "metadata": {},
   "source": [
    "##   Handle abnormal values in Numeric variables \n"
   ]
  },
  {
   "cell_type": "code",
   "execution_count": 99,
   "id": "87c01abe",
   "metadata": {
    "scrolled": true
   },
   "outputs": [
    {
     "data": {
      "text/html": [
       "<div>\n",
       "<style scoped>\n",
       "    .dataframe tbody tr th:only-of-type {\n",
       "        vertical-align: middle;\n",
       "    }\n",
       "\n",
       "    .dataframe tbody tr th {\n",
       "        vertical-align: top;\n",
       "    }\n",
       "\n",
       "    .dataframe thead th {\n",
       "        text-align: right;\n",
       "    }\n",
       "</style>\n",
       "<table border=\"1\" class=\"dataframe\">\n",
       "  <thead>\n",
       "    <tr style=\"text-align: right;\">\n",
       "      <th></th>\n",
       "      <th>Unnamed: 0</th>\n",
       "      <th>age</th>\n",
       "      <th>days_since_last_login</th>\n",
       "      <th>avg_time_spent</th>\n",
       "      <th>avg_transaction_value</th>\n",
       "      <th>points_in_wallet</th>\n",
       "    </tr>\n",
       "  </thead>\n",
       "  <tbody>\n",
       "    <tr>\n",
       "      <th>count</th>\n",
       "      <td>16578.000000</td>\n",
       "      <td>16578.000000</td>\n",
       "      <td>16578.000000</td>\n",
       "      <td>16578.000000</td>\n",
       "      <td>16578.000000</td>\n",
       "      <td>16578.000000</td>\n",
       "    </tr>\n",
       "    <tr>\n",
       "      <th>mean</th>\n",
       "      <td>18495.973459</td>\n",
       "      <td>36.869104</td>\n",
       "      <td>-43.902220</td>\n",
       "      <td>244.667489</td>\n",
       "      <td>29358.146877</td>\n",
       "      <td>688.972186</td>\n",
       "    </tr>\n",
       "    <tr>\n",
       "      <th>std</th>\n",
       "      <td>10673.228651</td>\n",
       "      <td>15.946474</td>\n",
       "      <td>232.778492</td>\n",
       "      <td>404.088075</td>\n",
       "      <td>19564.360605</td>\n",
       "      <td>194.267186</td>\n",
       "    </tr>\n",
       "    <tr>\n",
       "      <th>min</th>\n",
       "      <td>2.000000</td>\n",
       "      <td>10.000000</td>\n",
       "      <td>-999.000000</td>\n",
       "      <td>-2814.109110</td>\n",
       "      <td>800.460000</td>\n",
       "      <td>-760.661236</td>\n",
       "    </tr>\n",
       "    <tr>\n",
       "      <th>25%</th>\n",
       "      <td>9308.250000</td>\n",
       "      <td>23.000000</td>\n",
       "      <td>8.000000</td>\n",
       "      <td>60.232500</td>\n",
       "      <td>14138.495000</td>\n",
       "      <td>617.362500</td>\n",
       "    </tr>\n",
       "    <tr>\n",
       "      <th>50%</th>\n",
       "      <td>18441.500000</td>\n",
       "      <td>37.000000</td>\n",
       "      <td>12.000000</td>\n",
       "      <td>160.745000</td>\n",
       "      <td>27641.510000</td>\n",
       "      <td>698.865000</td>\n",
       "    </tr>\n",
       "    <tr>\n",
       "      <th>75%</th>\n",
       "      <td>27695.750000</td>\n",
       "      <td>51.000000</td>\n",
       "      <td>16.000000</td>\n",
       "      <td>355.427500</td>\n",
       "      <td>40990.865000</td>\n",
       "      <td>765.567500</td>\n",
       "    </tr>\n",
       "    <tr>\n",
       "      <th>max</th>\n",
       "      <td>36991.000000</td>\n",
       "      <td>64.000000</td>\n",
       "      <td>26.000000</td>\n",
       "      <td>3040.410000</td>\n",
       "      <td>99914.050000</td>\n",
       "      <td>2069.069761</td>\n",
       "    </tr>\n",
       "  </tbody>\n",
       "</table>\n",
       "</div>"
      ],
      "text/plain": [
       "         Unnamed: 0           age  days_since_last_login  avg_time_spent  \\\n",
       "count  16578.000000  16578.000000           16578.000000    16578.000000   \n",
       "mean   18495.973459     36.869104             -43.902220      244.667489   \n",
       "std    10673.228651     15.946474             232.778492      404.088075   \n",
       "min        2.000000     10.000000            -999.000000    -2814.109110   \n",
       "25%     9308.250000     23.000000               8.000000       60.232500   \n",
       "50%    18441.500000     37.000000              12.000000      160.745000   \n",
       "75%    27695.750000     51.000000              16.000000      355.427500   \n",
       "max    36991.000000     64.000000              26.000000     3040.410000   \n",
       "\n",
       "       avg_transaction_value  points_in_wallet  \n",
       "count           16578.000000      16578.000000  \n",
       "mean            29358.146877        688.972186  \n",
       "std             19564.360605        194.267186  \n",
       "min               800.460000       -760.661236  \n",
       "25%             14138.495000        617.362500  \n",
       "50%             27641.510000        698.865000  \n",
       "75%             40990.865000        765.567500  \n",
       "max             99914.050000       2069.069761  "
      ]
     },
     "execution_count": 99,
     "metadata": {},
     "output_type": "execute_result"
    }
   ],
   "source": [
    "X_train.describe()"
   ]
  },
  {
   "cell_type": "markdown",
   "id": "e3bd87f5",
   "metadata": {},
   "source": [
    "### Remove all the < 0 values in NUMERICs and replace them with Nanm"
   ]
  },
  {
   "cell_type": "code",
   "execution_count": 100,
   "id": "75789ad6",
   "metadata": {},
   "outputs": [],
   "source": [
    "X_train = X_train[X_train[\"avg_time_spent\"] >= 0]\n",
    "X_train = X_train[X_train[\"days_since_last_login\"] >= 0]\n",
    "X_train = X_train[X_train[\"points_in_wallet\"] >= 0]"
   ]
  },
  {
   "cell_type": "markdown",
   "id": "f8fe0d73",
   "metadata": {},
   "source": [
    "### By checcking dtype, we see ' avg_frequency_login_days ' is in 'object' type, rather than numeric format, so possibly mixed with Str value or missing values"
   ]
  },
  {
   "cell_type": "code",
   "execution_count": 101,
   "id": "157a396d",
   "metadata": {},
   "outputs": [],
   "source": [
    "X_train[\"avg_frequency_login_days\"] = pd.to_numeric(X_train[\"avg_frequency_login_days\"], errors='coerce')"
   ]
  },
  {
   "cell_type": "code",
   "execution_count": 102,
   "id": "8b3b08c4",
   "metadata": {},
   "outputs": [],
   "source": [
    "from sklearn.impute import KNNImputer\n",
    "\n",
    "imputer = KNNImputer(n_neighbors=4)\n",
    "X_train['avg_frequency_login_days']=imputer.fit_transform(X_train[['avg_frequency_login_days']])\n"
   ]
  },
  {
   "cell_type": "code",
   "execution_count": 103,
   "id": "91b0f0fa",
   "metadata": {},
   "outputs": [],
   "source": [
    "X_train = X_train[X_train[\"avg_frequency_login_days\"] >= 0]"
   ]
  },
  {
   "cell_type": "code",
   "execution_count": 104,
   "id": "36d03899",
   "metadata": {},
   "outputs": [
    {
     "data": {
      "text/html": [
       "<div>\n",
       "<style scoped>\n",
       "    .dataframe tbody tr th:only-of-type {\n",
       "        vertical-align: middle;\n",
       "    }\n",
       "\n",
       "    .dataframe tbody tr th {\n",
       "        vertical-align: top;\n",
       "    }\n",
       "\n",
       "    .dataframe thead th {\n",
       "        text-align: right;\n",
       "    }\n",
       "</style>\n",
       "<table border=\"1\" class=\"dataframe\">\n",
       "  <thead>\n",
       "    <tr style=\"text-align: right;\">\n",
       "      <th></th>\n",
       "      <th>Unnamed: 0</th>\n",
       "      <th>customer_id</th>\n",
       "      <th>Name</th>\n",
       "      <th>age</th>\n",
       "      <th>gender</th>\n",
       "      <th>security_no</th>\n",
       "      <th>region_category</th>\n",
       "      <th>membership_category</th>\n",
       "      <th>joining_date</th>\n",
       "      <th>joined_through_referral</th>\n",
       "      <th>...</th>\n",
       "      <th>used_special_discount</th>\n",
       "      <th>offer_application_preference</th>\n",
       "      <th>past_complaint</th>\n",
       "      <th>complaint_status</th>\n",
       "      <th>feedback</th>\n",
       "      <th>age_bins</th>\n",
       "      <th>avg_transaction_value_bins</th>\n",
       "      <th>points_in_wallet_bins</th>\n",
       "      <th>avg_time_spent_bins</th>\n",
       "      <th>days_since_last_login_bins</th>\n",
       "    </tr>\n",
       "  </thead>\n",
       "  <tbody>\n",
       "    <tr>\n",
       "      <th>3313</th>\n",
       "      <td>3313</td>\n",
       "      <td>fffe43004900440035003000340036003200</td>\n",
       "      <td>Melita Hagood</td>\n",
       "      <td>49</td>\n",
       "      <td>F</td>\n",
       "      <td>ZTCDDE0</td>\n",
       "      <td>Town</td>\n",
       "      <td>Basic Membership</td>\n",
       "      <td>2015-03-26</td>\n",
       "      <td>Yes</td>\n",
       "      <td>...</td>\n",
       "      <td>Yes</td>\n",
       "      <td>Yes</td>\n",
       "      <td>Yes</td>\n",
       "      <td>Solved in Follow-up</td>\n",
       "      <td>Too many ads</td>\n",
       "      <td>(47.8, 53.2]</td>\n",
       "      <td>(10711.819, 20623.178]</td>\n",
       "      <td>(371.231, 654.204]</td>\n",
       "      <td>(210.735, 815.703]</td>\n",
       "      <td>(-76.5, 26.0]</td>\n",
       "    </tr>\n",
       "    <tr>\n",
       "      <th>31958</th>\n",
       "      <td>31958</td>\n",
       "      <td>fffe43004900440031003000310031003900</td>\n",
       "      <td>Jong Escalera</td>\n",
       "      <td>28</td>\n",
       "      <td>F</td>\n",
       "      <td>M30GTIQ</td>\n",
       "      <td>Town</td>\n",
       "      <td>Gold Membership</td>\n",
       "      <td>2017-01-02</td>\n",
       "      <td>No</td>\n",
       "      <td>...</td>\n",
       "      <td>Yes</td>\n",
       "      <td>No</td>\n",
       "      <td>Yes</td>\n",
       "      <td>Solved</td>\n",
       "      <td>Poor Website</td>\n",
       "      <td>(26.2, 31.6]</td>\n",
       "      <td>(40445.896, 50357.255]</td>\n",
       "      <td>(654.204, 937.177]</td>\n",
       "      <td>(210.735, 815.703]</td>\n",
       "      <td>(-76.5, 26.0]</td>\n",
       "    </tr>\n",
       "    <tr>\n",
       "      <th>3905</th>\n",
       "      <td>3905</td>\n",
       "      <td>fffe43004900440032003500300033003900</td>\n",
       "      <td>Enid Dresel</td>\n",
       "      <td>63</td>\n",
       "      <td>M</td>\n",
       "      <td>RE4E5HS</td>\n",
       "      <td>Village</td>\n",
       "      <td>No Membership</td>\n",
       "      <td>2015-04-01</td>\n",
       "      <td>No</td>\n",
       "      <td>...</td>\n",
       "      <td>No</td>\n",
       "      <td>Yes</td>\n",
       "      <td>Yes</td>\n",
       "      <td>Unsolved</td>\n",
       "      <td>Too many ads</td>\n",
       "      <td>(58.6, 64.0]</td>\n",
       "      <td>(701.346, 10711.819]</td>\n",
       "      <td>(371.231, 654.204]</td>\n",
       "      <td>(-394.234, 210.735]</td>\n",
       "      <td>(-76.5, 26.0]</td>\n",
       "    </tr>\n",
       "    <tr>\n",
       "      <th>35044</th>\n",
       "      <td>35044</td>\n",
       "      <td>fffe43004900440031003500340032003900</td>\n",
       "      <td>Eilene Furlong</td>\n",
       "      <td>58</td>\n",
       "      <td>F</td>\n",
       "      <td>QHJMVKB</td>\n",
       "      <td>City</td>\n",
       "      <td>Silver Membership</td>\n",
       "      <td>2016-02-26</td>\n",
       "      <td>Yes</td>\n",
       "      <td>...</td>\n",
       "      <td>No</td>\n",
       "      <td>Yes</td>\n",
       "      <td>Yes</td>\n",
       "      <td>Unsolved</td>\n",
       "      <td>Poor Customer Service</td>\n",
       "      <td>(53.2, 58.6]</td>\n",
       "      <td>(40445.896, 50357.255]</td>\n",
       "      <td>(371.231, 654.204]</td>\n",
       "      <td>(-394.234, 210.735]</td>\n",
       "      <td>(-76.5, 26.0]</td>\n",
       "    </tr>\n",
       "    <tr>\n",
       "      <th>4254</th>\n",
       "      <td>4254</td>\n",
       "      <td>fffe43004900440034003700320034003600</td>\n",
       "      <td>Francie Constable</td>\n",
       "      <td>26</td>\n",
       "      <td>F</td>\n",
       "      <td>V1N06BT</td>\n",
       "      <td>City</td>\n",
       "      <td>Platinum Membership</td>\n",
       "      <td>2016-11-14</td>\n",
       "      <td>Yes</td>\n",
       "      <td>...</td>\n",
       "      <td>No</td>\n",
       "      <td>Yes</td>\n",
       "      <td>Yes</td>\n",
       "      <td>Solved</td>\n",
       "      <td>Poor Website</td>\n",
       "      <td>(20.8, 26.2]</td>\n",
       "      <td>(20623.178, 30534.537]</td>\n",
       "      <td>(654.204, 937.177]</td>\n",
       "      <td>(-394.234, 210.735]</td>\n",
       "      <td>(-76.5, 26.0]</td>\n",
       "    </tr>\n",
       "  </tbody>\n",
       "</table>\n",
       "<p>5 rows × 30 columns</p>\n",
       "</div>"
      ],
      "text/plain": [
       "       Unnamed: 0                           customer_id               Name  \\\n",
       "3313         3313  fffe43004900440035003000340036003200      Melita Hagood   \n",
       "31958       31958  fffe43004900440031003000310031003900      Jong Escalera   \n",
       "3905         3905  fffe43004900440032003500300033003900        Enid Dresel   \n",
       "35044       35044  fffe43004900440031003500340032003900     Eilene Furlong   \n",
       "4254         4254  fffe43004900440034003700320034003600  Francie Constable   \n",
       "\n",
       "       age gender security_no region_category  membership_category  \\\n",
       "3313    49      F     ZTCDDE0            Town     Basic Membership   \n",
       "31958   28      F     M30GTIQ            Town      Gold Membership   \n",
       "3905    63      M     RE4E5HS         Village        No Membership   \n",
       "35044   58      F     QHJMVKB            City    Silver Membership   \n",
       "4254    26      F     V1N06BT            City  Platinum Membership   \n",
       "\n",
       "      joining_date joined_through_referral  ... used_special_discount  \\\n",
       "3313    2015-03-26                     Yes  ...                   Yes   \n",
       "31958   2017-01-02                      No  ...                   Yes   \n",
       "3905    2015-04-01                      No  ...                    No   \n",
       "35044   2016-02-26                     Yes  ...                    No   \n",
       "4254    2016-11-14                     Yes  ...                    No   \n",
       "\n",
       "      offer_application_preference past_complaint     complaint_status  \\\n",
       "3313                           Yes            Yes  Solved in Follow-up   \n",
       "31958                           No            Yes               Solved   \n",
       "3905                           Yes            Yes             Unsolved   \n",
       "35044                          Yes            Yes             Unsolved   \n",
       "4254                           Yes            Yes               Solved   \n",
       "\n",
       "                    feedback      age_bins  avg_transaction_value_bins  \\\n",
       "3313            Too many ads  (47.8, 53.2]      (10711.819, 20623.178]   \n",
       "31958           Poor Website  (26.2, 31.6]      (40445.896, 50357.255]   \n",
       "3905            Too many ads  (58.6, 64.0]        (701.346, 10711.819]   \n",
       "35044  Poor Customer Service  (53.2, 58.6]      (40445.896, 50357.255]   \n",
       "4254            Poor Website  (20.8, 26.2]      (20623.178, 30534.537]   \n",
       "\n",
       "       points_in_wallet_bins  avg_time_spent_bins  days_since_last_login_bins  \n",
       "3313      (371.231, 654.204]   (210.735, 815.703]               (-76.5, 26.0]  \n",
       "31958     (654.204, 937.177]   (210.735, 815.703]               (-76.5, 26.0]  \n",
       "3905      (371.231, 654.204]  (-394.234, 210.735]               (-76.5, 26.0]  \n",
       "35044     (371.231, 654.204]  (-394.234, 210.735]               (-76.5, 26.0]  \n",
       "4254      (654.204, 937.177]  (-394.234, 210.735]               (-76.5, 26.0]  \n",
       "\n",
       "[5 rows x 30 columns]"
      ]
     },
     "execution_count": 104,
     "metadata": {},
     "output_type": "execute_result"
    }
   ],
   "source": [
    "X_train.head()"
   ]
  },
  {
   "cell_type": "markdown",
   "id": "f53c03a7",
   "metadata": {},
   "source": [
    "##  Check for duplicated data points"
   ]
  },
  {
   "cell_type": "code",
   "execution_count": 105,
   "id": "a3fc6722",
   "metadata": {
    "scrolled": true
   },
   "outputs": [
    {
     "data": {
      "text/plain": [
       "Unnamed: 0                      0.0\n",
       "customer_id                     0.0\n",
       "Name                            0.0\n",
       "age                             0.0\n",
       "gender                          0.0\n",
       "security_no                     0.0\n",
       "region_category                 0.0\n",
       "membership_category             0.0\n",
       "joining_date                    0.0\n",
       "joined_through_referral         0.0\n",
       "referral_id                     0.0\n",
       "preferred_offer_types           0.0\n",
       "medium_of_operation             0.0\n",
       "internet_option                 0.0\n",
       "last_visit_time                 0.0\n",
       "days_since_last_login           0.0\n",
       "avg_time_spent                  0.0\n",
       "avg_transaction_value           0.0\n",
       "avg_frequency_login_days        0.0\n",
       "points_in_wallet                0.0\n",
       "used_special_discount           0.0\n",
       "offer_application_preference    0.0\n",
       "past_complaint                  0.0\n",
       "complaint_status                0.0\n",
       "feedback                        0.0\n",
       "dtype: float64"
      ]
     },
     "execution_count": 105,
     "metadata": {},
     "output_type": "execute_result"
    }
   ],
   "source": [
    "X_train[X_train.duplicated()].sum()"
   ]
  },
  {
   "cell_type": "markdown",
   "id": "2392efdc",
   "metadata": {},
   "source": [
    "##  Check outliers"
   ]
  },
  {
   "cell_type": "code",
   "execution_count": 106,
   "id": "5482ea26",
   "metadata": {},
   "outputs": [],
   "source": [
    "column_num = X_train.select_dtypes(include=['int64', 'float64'])\n",
    "# X_train_num=X_train.select_dtypes(include=[np.number]) "
   ]
  },
  {
   "cell_type": "code",
   "execution_count": 107,
   "id": "c1933233",
   "metadata": {},
   "outputs": [
    {
     "data": {
      "image/png": "[encoded data removed]",
      "text/plain": [
       "<Figure size 800x800 with 7 Axes>"
      ]
     },
     "metadata": {},
     "output_type": "display_data"
    }
   ],
   "source": [
    "fig,ax= plt.subplots(nrows=3,ncols=3,figsize=(8, 8)) \n",
    "\n",
    "for variable, subplot in   zip(column_num.columns,   ax.flatten()):\n",
    "    z = sns.boxplot(x = column_num[variable], orient = \"h\",  whis=1.5 , ax=subplot) \n",
    "    z.set_xlabel(variable, fontsize = 10)\n",
    "    \n",
    "fig.delaxes(ax[2][1])\n",
    "fig.delaxes(ax[2][2])\n",
    "plt.show()"
   ]
  },
  {
   "cell_type": "markdown",
   "id": "850f2ed5",
   "metadata": {},
   "source": [
    "### 4 Outliers:  \n",
    "avg_time_spent, \n",
    "avg_transaction_value, \n",
    "points_in_wallet"
   ]
  },
  {
   "cell_type": "markdown",
   "id": "b44695ce",
   "metadata": {},
   "source": [
    "### remove outliers"
   ]
  },
  {
   "cell_type": "code",
   "execution_count": 108,
   "id": "338abf7d",
   "metadata": {},
   "outputs": [],
   "source": [
    "Q1 = X_train[\"avg_time_spent\"].quantile(0.25)\n",
    "Q3 = X_train[\"avg_time_spent\"].quantile(0.75)\n",
    "IQR = Q3 - Q1\n",
    "X_train = X_train[(X_train[\"avg_time_spent\"] >= Q1 - 1.5 * IQR) & (X_train[\"avg_time_spent\"] <= Q3 + 1.5 * IQR)]\n",
    "\n",
    "Q1 = X_train[\"avg_transaction_value\"].quantile(0.25)\n",
    "Q3 = X_train[\"avg_transaction_value\"].quantile(0.75)\n",
    "IQR = Q3 - Q1\n",
    "X_train = X_train[(X_train[\"avg_transaction_value\"] >= Q1 - 1.5 * IQR) & (X_train[\"avg_transaction_value\"] <= Q3 + 1.5 * IQR)]\n",
    "\n",
    "Q1 = X_train[\"avg_frequency_login_days\"].quantile(0.25)\n",
    "Q3 = X_train[\"avg_frequency_login_days\"].quantile(0.75)\n",
    "IQR = Q3 - Q1\n",
    "X_train = X_train[(X_train[\"avg_frequency_login_days\"] >= Q1 - 1.5 * IQR) & (X_train[\"avg_frequency_login_days\"] <= Q3 + 1.5 * IQR)]\n",
    "\n",
    "\n",
    "Q1 = X_train[\"points_in_wallet\"].quantile(0.25)\n",
    "Q3 = X_train[\"points_in_wallet\"].quantile(0.75)\n",
    "IQR = Q3 - Q1\n",
    "X_train = X_train[(X_train[\"points_in_wallet\"] >= Q1 - 1.5 * IQR) & (X_train[\"points_in_wallet\"] <= Q3 + 1.5 * IQR)]\n"
   ]
  },
  {
   "cell_type": "markdown",
   "id": "8b1db395",
   "metadata": {},
   "source": [
    "### re-check outliers"
   ]
  },
  {
   "cell_type": "code",
   "execution_count": 109,
   "id": "f23a3592",
   "metadata": {},
   "outputs": [
    {
     "data": {
      "image/png": "[encoded data removed]",
      "text/plain": [
       "<Figure size 800x800 with 7 Axes>"
      ]
     },
     "metadata": {},
     "output_type": "display_data"
    }
   ],
   "source": [
    "fig,ax= plt.subplots(nrows=3,ncols=3,figsize=(8, 8)) \n",
    "\n",
    "for variable, subplot in   zip(column_num.columns,   ax.flatten()):\n",
    "    z = sns.boxplot(x = X_train[variable], orient = \"h\",  whis=1.5 , ax=subplot) \n",
    "    z.set_xlabel(variable, fontsize = 10)\n",
    "    \n",
    "fig.delaxes(ax[2][1])\n",
    "fig.delaxes(ax[2][2])\n",
    "plt.show()"
   ]
  },
  {
   "cell_type": "markdown",
   "id": "baa8860e",
   "metadata": {},
   "source": [
    "## Categorical Data Encoding "
   ]
  },
  {
   "cell_type": "code",
   "execution_count": 110,
   "id": "7365e6e7",
   "metadata": {
    "scrolled": true
   },
   "outputs": [
    {
     "data": {
      "text/plain": [
       "Index(['customer_id', 'Name', 'gender', 'security_no', 'region_category',\n",
       "       'membership_category', 'joining_date', 'joined_through_referral',\n",
       "       'referral_id', 'preferred_offer_types', 'medium_of_operation',\n",
       "       'internet_option', 'last_visit_time', 'used_special_discount',\n",
       "       'offer_application_preference', 'past_complaint', 'complaint_status',\n",
       "       'feedback'],\n",
       "      dtype='object')"
      ]
     },
     "execution_count": 110,
     "metadata": {},
     "output_type": "execute_result"
    }
   ],
   "source": [
    "X_train_cat = X_train.select_dtypes(include=['object'])\n",
    "X_train_cat.columns"
   ]
  },
  {
   "cell_type": "code",
   "execution_count": 111,
   "id": "c7af5249",
   "metadata": {},
   "outputs": [],
   "source": [
    "# for column in X_train_cat.columns:\n",
    "#     print(f\"Value counts for column {column}:\")\n",
    "#     print(X_train_cat[column].value_counts())\n",
    "#     print('--------------------------------------------')"
   ]
  },
  {
   "cell_type": "markdown",
   "id": "9591cea3",
   "metadata": {},
   "source": [
    "### Use ordinal imputation to encode ‘membership categery’ and ‘compliant status’， given the internal meaningful orders"
   ]
  },
  {
   "cell_type": "code",
   "execution_count": 112,
   "id": "dc54501c",
   "metadata": {},
   "outputs": [],
   "source": [
    "from sklearn.preprocessing import OrdinalEncoder\n",
    "\n",
    "ord_membership_category = OrdinalEncoder(categories = [[\"No Membership\", \"Basic Membership\", \"Silver Membership\",\n",
    "                                                        \"Gold Membership\",\"Platinum Membership\",\"Premium Membership\"]])\n",
    "\n",
    "X_train['membership_category'] = ord_membership_category.fit_transform(X_train['membership_category'].values.reshape(-1,1))\n",
    "\n"
   ]
  },
  {
   "cell_type": "code",
   "execution_count": 113,
   "id": "461baaf7",
   "metadata": {},
   "outputs": [],
   "source": [
    "ord_complaint_status = OrdinalEncoder(categories = [[\"Not Applicable\", \"Solved\", \"Unsolved\",\"Solved in Follow-up\",\"No Information Available\"]])\n",
    "\n",
    "X_train['complaint_status'] = ord_complaint_status.fit_transform(X_train['complaint_status'].values.reshape(-1,1))"
   ]
  },
  {
   "cell_type": "markdown",
   "id": "650d9d5c",
   "metadata": {},
   "source": [
    "### Use get_dummy to encode the other categorical variables, e.g. region, referal, ofer type etc"
   ]
  },
  {
   "cell_type": "code",
   "execution_count": 114,
   "id": "c1c4af5b",
   "metadata": {},
   "outputs": [],
   "source": [
    "X_train_cat = X_train[['region_category','joined_through_referral','preferred_offer_types','medium_of_operation','internet_option',\n",
    "             'used_special_discount','offer_application_preference','past_complaint','feedback']]\n",
    "\n",
    "X_train_categorical = pd.get_dummies(X_train_cat, drop_first=True)"
   ]
  },
  {
   "cell_type": "markdown",
   "id": "ebfc32f2",
   "metadata": {},
   "source": [
    "### Concate X_train_categorical and original X_train"
   ]
  },
  {
   "cell_type": "code",
   "execution_count": 115,
   "id": "65db1e51",
   "metadata": {},
   "outputs": [],
   "source": [
    "X_train = pd.concat ([X_train,X_train_categorical],axis = 1)"
   ]
  },
  {
   "cell_type": "markdown",
   "id": "3b684d43",
   "metadata": {},
   "source": [
    "## Feature selection and abstraction"
   ]
  },
  {
   "cell_type": "markdown",
   "id": "20202ac9",
   "metadata": {},
   "source": [
    "The bins for some numverical variables are in the dataframe so need to remove them"
   ]
  },
  {
   "cell_type": "code",
   "execution_count": 116,
   "id": "b15b1961",
   "metadata": {},
   "outputs": [
    {
     "name": "stdout",
     "output_type": "stream",
     "text": [
      "<class 'pandas.core.frame.DataFrame'>\n",
      "Int64Index: 11145 entries, 3313 to 15795\n",
      "Data columns (total 45 columns):\n",
      " #   Column                                       Non-Null Count  Dtype  \n",
      "---  ------                                       --------------  -----  \n",
      " 0   Unnamed: 0                                   11145 non-null  int64  \n",
      " 1   customer_id                                  11145 non-null  object \n",
      " 2   Name                                         11145 non-null  object \n",
      " 3   age                                          11145 non-null  int64  \n",
      " 4   gender                                       11145 non-null  object \n",
      " 5   security_no                                  11145 non-null  object \n",
      " 6   region_category                              11145 non-null  object \n",
      " 7   membership_category                          11145 non-null  float64\n",
      " 8   joining_date                                 11145 non-null  object \n",
      " 9   joined_through_referral                      11145 non-null  object \n",
      " 10  referral_id                                  11145 non-null  object \n",
      " 11  preferred_offer_types                        11145 non-null  object \n",
      " 12  medium_of_operation                          11145 non-null  object \n",
      " 13  internet_option                              11145 non-null  object \n",
      " 14  last_visit_time                              11145 non-null  object \n",
      " 15  days_since_last_login                        11145 non-null  int64  \n",
      " 16  avg_time_spent                               11145 non-null  float64\n",
      " 17  avg_transaction_value                        11145 non-null  float64\n",
      " 18  avg_frequency_login_days                     11145 non-null  float64\n",
      " 19  points_in_wallet                             11145 non-null  float64\n",
      " 20  used_special_discount                        11145 non-null  object \n",
      " 21  offer_application_preference                 11145 non-null  object \n",
      " 22  past_complaint                               11145 non-null  object \n",
      " 23  complaint_status                             11145 non-null  float64\n",
      " 24  feedback                                     11145 non-null  object \n",
      " 25  region_category_Town                         11145 non-null  uint8  \n",
      " 26  region_category_Village                      11145 non-null  uint8  \n",
      " 27  joined_through_referral_Yes                  11145 non-null  uint8  \n",
      " 28  preferred_offer_types_Gift Vouchers/Coupons  11145 non-null  uint8  \n",
      " 29  preferred_offer_types_Without Offers         11145 non-null  uint8  \n",
      " 30  medium_of_operation_Desktop                  11145 non-null  uint8  \n",
      " 31  medium_of_operation_Smartphone               11145 non-null  uint8  \n",
      " 32  internet_option_Mobile_Data                  11145 non-null  uint8  \n",
      " 33  internet_option_Wi-Fi                        11145 non-null  uint8  \n",
      " 34  used_special_discount_Yes                    11145 non-null  uint8  \n",
      " 35  offer_application_preference_Yes             11145 non-null  uint8  \n",
      " 36  past_complaint_Yes                           11145 non-null  uint8  \n",
      " 37  feedback_Poor Customer Service               11145 non-null  uint8  \n",
      " 38  feedback_Poor Product Quality                11145 non-null  uint8  \n",
      " 39  feedback_Poor Website                        11145 non-null  uint8  \n",
      " 40  feedback_Products always in Stock            11145 non-null  uint8  \n",
      " 41  feedback_Quality Customer Care               11145 non-null  uint8  \n",
      " 42  feedback_Reasonable Price                    11145 non-null  uint8  \n",
      " 43  feedback_Too many ads                        11145 non-null  uint8  \n",
      " 44  feedback_User Friendly Website               11145 non-null  uint8  \n",
      "dtypes: float64(6), int64(3), object(16), uint8(20)\n",
      "memory usage: 2.4+ MB\n"
     ]
    }
   ],
   "source": [
    "# remove all columns contains \"bins\"\n",
    "\n",
    "columns_bins = X_train.columns[X_train.columns.str.contains('bins')]\n",
    "\n",
    "X_train = X_train.drop(columns_bins, axis=1)\n",
    "X_train.info()"
   ]
  },
  {
   "cell_type": "markdown",
   "id": "c8878b12",
   "metadata": {},
   "source": [
    "### We also need to remove all the columns based on which one hot encoding was conductedM"
   ]
  },
  {
   "cell_type": "code",
   "execution_count": 117,
   "id": "24d7eaff",
   "metadata": {},
   "outputs": [
    {
     "name": "stdout",
     "output_type": "stream",
     "text": [
      "<class 'pandas.core.frame.DataFrame'>\n",
      "Int64Index: 11145 entries, 3313 to 15795\n",
      "Data columns (total 36 columns):\n",
      " #   Column                                       Non-Null Count  Dtype  \n",
      "---  ------                                       --------------  -----  \n",
      " 0   Unnamed: 0                                   11145 non-null  int64  \n",
      " 1   customer_id                                  11145 non-null  object \n",
      " 2   Name                                         11145 non-null  object \n",
      " 3   age                                          11145 non-null  int64  \n",
      " 4   gender                                       11145 non-null  object \n",
      " 5   security_no                                  11145 non-null  object \n",
      " 6   membership_category                          11145 non-null  float64\n",
      " 7   joining_date                                 11145 non-null  object \n",
      " 8   referral_id                                  11145 non-null  object \n",
      " 9   last_visit_time                              11145 non-null  object \n",
      " 10  days_since_last_login                        11145 non-null  int64  \n",
      " 11  avg_time_spent                               11145 non-null  float64\n",
      " 12  avg_transaction_value                        11145 non-null  float64\n",
      " 13  avg_frequency_login_days                     11145 non-null  float64\n",
      " 14  points_in_wallet                             11145 non-null  float64\n",
      " 15  complaint_status                             11145 non-null  float64\n",
      " 16  region_category_Town                         11145 non-null  uint8  \n",
      " 17  region_category_Village                      11145 non-null  uint8  \n",
      " 18  joined_through_referral_Yes                  11145 non-null  uint8  \n",
      " 19  preferred_offer_types_Gift Vouchers/Coupons  11145 non-null  uint8  \n",
      " 20  preferred_offer_types_Without Offers         11145 non-null  uint8  \n",
      " 21  medium_of_operation_Desktop                  11145 non-null  uint8  \n",
      " 22  medium_of_operation_Smartphone               11145 non-null  uint8  \n",
      " 23  internet_option_Mobile_Data                  11145 non-null  uint8  \n",
      " 24  internet_option_Wi-Fi                        11145 non-null  uint8  \n",
      " 25  used_special_discount_Yes                    11145 non-null  uint8  \n",
      " 26  offer_application_preference_Yes             11145 non-null  uint8  \n",
      " 27  past_complaint_Yes                           11145 non-null  uint8  \n",
      " 28  feedback_Poor Customer Service               11145 non-null  uint8  \n",
      " 29  feedback_Poor Product Quality                11145 non-null  uint8  \n",
      " 30  feedback_Poor Website                        11145 non-null  uint8  \n",
      " 31  feedback_Products always in Stock            11145 non-null  uint8  \n",
      " 32  feedback_Quality Customer Care               11145 non-null  uint8  \n",
      " 33  feedback_Reasonable Price                    11145 non-null  uint8  \n",
      " 34  feedback_Too many ads                        11145 non-null  uint8  \n",
      " 35  feedback_User Friendly Website               11145 non-null  uint8  \n",
      "dtypes: float64(6), int64(3), object(7), uint8(20)\n",
      "memory usage: 1.7+ MB\n"
     ]
    }
   ],
   "source": [
    "X_train = X_train.drop(['region_category','joined_through_referral','preferred_offer_types','medium_of_operation','internet_option',\n",
    "             'used_special_discount','offer_application_preference','past_complaint','feedback'], axis=1)\n",
    "X_train.info()"
   ]
  },
  {
   "cell_type": "code",
   "execution_count": 118,
   "id": "18f1c638",
   "metadata": {},
   "outputs": [],
   "source": [
    "X_train.drop(['Name','customer_id','security_no','gender','referral_id','Unnamed: 0','last_visit_time'],axis = 1,inplace =  True)\n"
   ]
  },
  {
   "cell_type": "code",
   "execution_count": 119,
   "id": "f69a0528",
   "metadata": {},
   "outputs": [
    {
     "data": {
      "text/html": [
       "<div>\n",
       "<style scoped>\n",
       "    .dataframe tbody tr th:only-of-type {\n",
       "        vertical-align: middle;\n",
       "    }\n",
       "\n",
       "    .dataframe tbody tr th {\n",
       "        vertical-align: top;\n",
       "    }\n",
       "\n",
       "    .dataframe thead th {\n",
       "        text-align: right;\n",
       "    }\n",
       "</style>\n",
       "<table border=\"1\" class=\"dataframe\">\n",
       "  <thead>\n",
       "    <tr style=\"text-align: right;\">\n",
       "      <th></th>\n",
       "      <th>age</th>\n",
       "      <th>membership_category</th>\n",
       "      <th>joining_date</th>\n",
       "      <th>days_since_last_login</th>\n",
       "      <th>avg_time_spent</th>\n",
       "      <th>avg_transaction_value</th>\n",
       "      <th>avg_frequency_login_days</th>\n",
       "      <th>points_in_wallet</th>\n",
       "      <th>complaint_status</th>\n",
       "      <th>region_category_Town</th>\n",
       "      <th>...</th>\n",
       "      <th>offer_application_preference_Yes</th>\n",
       "      <th>past_complaint_Yes</th>\n",
       "      <th>feedback_Poor Customer Service</th>\n",
       "      <th>feedback_Poor Product Quality</th>\n",
       "      <th>feedback_Poor Website</th>\n",
       "      <th>feedback_Products always in Stock</th>\n",
       "      <th>feedback_Quality Customer Care</th>\n",
       "      <th>feedback_Reasonable Price</th>\n",
       "      <th>feedback_Too many ads</th>\n",
       "      <th>feedback_User Friendly Website</th>\n",
       "    </tr>\n",
       "  </thead>\n",
       "  <tbody>\n",
       "    <tr>\n",
       "      <th>3313</th>\n",
       "      <td>49</td>\n",
       "      <td>1.0</td>\n",
       "      <td>2015-03-26</td>\n",
       "      <td>2</td>\n",
       "      <td>572.77</td>\n",
       "      <td>19641.41</td>\n",
       "      <td>23.000000</td>\n",
       "      <td>600.54</td>\n",
       "      <td>3.0</td>\n",
       "      <td>1</td>\n",
       "      <td>...</td>\n",
       "      <td>1</td>\n",
       "      <td>1</td>\n",
       "      <td>0</td>\n",
       "      <td>0</td>\n",
       "      <td>0</td>\n",
       "      <td>0</td>\n",
       "      <td>0</td>\n",
       "      <td>0</td>\n",
       "      <td>1</td>\n",
       "      <td>0</td>\n",
       "    </tr>\n",
       "    <tr>\n",
       "      <th>31958</th>\n",
       "      <td>28</td>\n",
       "      <td>3.0</td>\n",
       "      <td>2017-01-02</td>\n",
       "      <td>14</td>\n",
       "      <td>308.77</td>\n",
       "      <td>45564.89</td>\n",
       "      <td>36.926599</td>\n",
       "      <td>716.28</td>\n",
       "      <td>1.0</td>\n",
       "      <td>1</td>\n",
       "      <td>...</td>\n",
       "      <td>0</td>\n",
       "      <td>1</td>\n",
       "      <td>0</td>\n",
       "      <td>0</td>\n",
       "      <td>1</td>\n",
       "      <td>0</td>\n",
       "      <td>0</td>\n",
       "      <td>0</td>\n",
       "      <td>0</td>\n",
       "      <td>0</td>\n",
       "    </tr>\n",
       "    <tr>\n",
       "      <th>35044</th>\n",
       "      <td>58</td>\n",
       "      <td>2.0</td>\n",
       "      <td>2016-02-26</td>\n",
       "      <td>3</td>\n",
       "      <td>30.10</td>\n",
       "      <td>44766.29</td>\n",
       "      <td>21.000000</td>\n",
       "      <td>613.67</td>\n",
       "      <td>2.0</td>\n",
       "      <td>0</td>\n",
       "      <td>...</td>\n",
       "      <td>1</td>\n",
       "      <td>1</td>\n",
       "      <td>1</td>\n",
       "      <td>0</td>\n",
       "      <td>0</td>\n",
       "      <td>0</td>\n",
       "      <td>0</td>\n",
       "      <td>0</td>\n",
       "      <td>0</td>\n",
       "      <td>0</td>\n",
       "    </tr>\n",
       "    <tr>\n",
       "      <th>4254</th>\n",
       "      <td>26</td>\n",
       "      <td>4.0</td>\n",
       "      <td>2016-11-14</td>\n",
       "      <td>2</td>\n",
       "      <td>114.42</td>\n",
       "      <td>26507.16</td>\n",
       "      <td>7.000000</td>\n",
       "      <td>751.05</td>\n",
       "      <td>1.0</td>\n",
       "      <td>0</td>\n",
       "      <td>...</td>\n",
       "      <td>1</td>\n",
       "      <td>1</td>\n",
       "      <td>0</td>\n",
       "      <td>0</td>\n",
       "      <td>1</td>\n",
       "      <td>0</td>\n",
       "      <td>0</td>\n",
       "      <td>0</td>\n",
       "      <td>0</td>\n",
       "      <td>0</td>\n",
       "    </tr>\n",
       "    <tr>\n",
       "      <th>30939</th>\n",
       "      <td>53</td>\n",
       "      <td>0.0</td>\n",
       "      <td>2017-10-22</td>\n",
       "      <td>19</td>\n",
       "      <td>72.87</td>\n",
       "      <td>14625.81</td>\n",
       "      <td>15.000000</td>\n",
       "      <td>714.17</td>\n",
       "      <td>3.0</td>\n",
       "      <td>0</td>\n",
       "      <td>...</td>\n",
       "      <td>0</td>\n",
       "      <td>1</td>\n",
       "      <td>0</td>\n",
       "      <td>1</td>\n",
       "      <td>0</td>\n",
       "      <td>0</td>\n",
       "      <td>0</td>\n",
       "      <td>0</td>\n",
       "      <td>0</td>\n",
       "      <td>0</td>\n",
       "    </tr>\n",
       "  </tbody>\n",
       "</table>\n",
       "<p>5 rows × 29 columns</p>\n",
       "</div>"
      ],
      "text/plain": [
       "       age  membership_category joining_date  days_since_last_login  \\\n",
       "3313    49                  1.0   2015-03-26                      2   \n",
       "31958   28                  3.0   2017-01-02                     14   \n",
       "35044   58                  2.0   2016-02-26                      3   \n",
       "4254    26                  4.0   2016-11-14                      2   \n",
       "30939   53                  0.0   2017-10-22                     19   \n",
       "\n",
       "       avg_time_spent  avg_transaction_value  avg_frequency_login_days  \\\n",
       "3313           572.77               19641.41                 23.000000   \n",
       "31958          308.77               45564.89                 36.926599   \n",
       "35044           30.10               44766.29                 21.000000   \n",
       "4254           114.42               26507.16                  7.000000   \n",
       "30939           72.87               14625.81                 15.000000   \n",
       "\n",
       "       points_in_wallet  complaint_status  region_category_Town  ...  \\\n",
       "3313             600.54               3.0                     1  ...   \n",
       "31958            716.28               1.0                     1  ...   \n",
       "35044            613.67               2.0                     0  ...   \n",
       "4254             751.05               1.0                     0  ...   \n",
       "30939            714.17               3.0                     0  ...   \n",
       "\n",
       "       offer_application_preference_Yes  past_complaint_Yes  \\\n",
       "3313                                  1                   1   \n",
       "31958                                 0                   1   \n",
       "35044                                 1                   1   \n",
       "4254                                  1                   1   \n",
       "30939                                 0                   1   \n",
       "\n",
       "       feedback_Poor Customer Service  feedback_Poor Product Quality  \\\n",
       "3313                                0                              0   \n",
       "31958                               0                              0   \n",
       "35044                               1                              0   \n",
       "4254                                0                              0   \n",
       "30939                               0                              1   \n",
       "\n",
       "       feedback_Poor Website  feedback_Products always in Stock  \\\n",
       "3313                       0                                  0   \n",
       "31958                      1                                  0   \n",
       "35044                      0                                  0   \n",
       "4254                       1                                  0   \n",
       "30939                      0                                  0   \n",
       "\n",
       "       feedback_Quality Customer Care  feedback_Reasonable Price  \\\n",
       "3313                                0                          0   \n",
       "31958                               0                          0   \n",
       "35044                               0                          0   \n",
       "4254                                0                          0   \n",
       "30939                               0                          0   \n",
       "\n",
       "       feedback_Too many ads  feedback_User Friendly Website  \n",
       "3313                       1                               0  \n",
       "31958                      0                               0  \n",
       "35044                      0                               0  \n",
       "4254                       0                               0  \n",
       "30939                      0                               0  \n",
       "\n",
       "[5 rows x 29 columns]"
      ]
     },
     "execution_count": 119,
     "metadata": {},
     "output_type": "execute_result"
    }
   ],
   "source": [
    "X_train.head()"
   ]
  },
  {
   "cell_type": "markdown",
   "id": "d0ad4d87",
   "metadata": {},
   "source": [
    "### Feature abstract"
   ]
  },
  {
   "cell_type": "code",
   "execution_count": 120,
   "id": "319d7a28",
   "metadata": {},
   "outputs": [],
   "source": [
    "X_train['Tenure_year']=X_train.joining_date.apply(lambda x:2022-int(x.split('-')[0]))\n"
   ]
  },
  {
   "cell_type": "code",
   "execution_count": 121,
   "id": "8dbbb9c5",
   "metadata": {},
   "outputs": [],
   "source": [
    "X_train.drop (['joining_date'],axis=1, inplace=True)"
   ]
  },
  {
   "cell_type": "markdown",
   "id": "c8c62ede",
   "metadata": {},
   "source": [
    "## Multicollinearity check among Numeric variables"
   ]
  },
  {
   "cell_type": "code",
   "execution_count": 122,
   "id": "64682726",
   "metadata": {},
   "outputs": [],
   "source": [
    "column_num = X_train.select_dtypes(include=['int64', 'float64'])"
   ]
  },
  {
   "cell_type": "code",
   "execution_count": 123,
   "id": "ebbc2820",
   "metadata": {},
   "outputs": [
    {
     "data": {
      "text/plain": [
       "<AxesSubplot:>"
      ]
     },
     "execution_count": 123,
     "metadata": {},
     "output_type": "execute_result"
    },
    {
     "data": {
      "image/png": "[encoded data removed]",
      "text/plain": [
       "<Figure size 1500x1500 with 2 Axes>"
      ]
     },
     "metadata": {},
     "output_type": "display_data"
    }
   ],
   "source": [
    "fig, ax = plt.subplots(figsize =(15,15))\n",
    "sns.heatmap(column_num.corr(method='pearson'), vmin=-1, vmax=1, annot=True)\n",
    "#plt.yticks(rotation=45)"
   ]
  },
  {
   "cell_type": "markdown",
   "id": "43b559a1",
   "metadata": {},
   "source": [
    "## Handle data imbalance with SMOTE (over- and under-sampling)"
   ]
  },
  {
   "cell_type": "code",
   "execution_count": 124,
   "id": "9da7e37f",
   "metadata": {},
   "outputs": [
    {
     "name": "stdout",
     "output_type": "stream",
     "text": [
      "Requirement already satisfied: imblearn in e:\\anoconda\\lib\\site-packages (0.0)\n",
      "Requirement already satisfied: imbalanced-learn in e:\\anoconda\\lib\\site-packages (from imblearn) (0.10.1)\n",
      "Requirement already satisfied: joblib>=1.1.1 in e:\\anoconda\\lib\\site-packages (from imbalanced-learn->imblearn) (1.2.0)\n",
      "Requirement already satisfied: scikit-learn>=1.0.2 in e:\\anoconda\\lib\\site-packages (from imbalanced-learn->imblearn) (1.2.0)\n",
      "Requirement already satisfied: scipy>=1.3.2 in e:\\anoconda\\lib\\site-packages (from imbalanced-learn->imblearn) (1.9.1)\n",
      "Requirement already satisfied: threadpoolctl>=2.0.0 in e:\\anoconda\\lib\\site-packages (from imbalanced-learn->imblearn) (2.2.0)\n",
      "Requirement already satisfied: numpy>=1.17.3 in e:\\anoconda\\lib\\site-packages (from imbalanced-learn->imblearn) (1.21.5)\n",
      "Note: you may need to restart the kernel to use updated packages.\n"
     ]
    }
   ],
   "source": [
    "pip install imblearn"
   ]
  },
  {
   "cell_type": "code",
   "execution_count": 143,
   "id": "0db277b5",
   "metadata": {},
   "outputs": [
    {
     "ename": "ValueError",
     "evalue": "Found input variables with inconsistent numbers of samples: [11145, 29593]",
     "output_type": "error",
     "traceback": [
      "\u001b[1;31m---------------------------------------------------------------------------\u001b[0m",
      "\u001b[1;31mValueError\u001b[0m                                Traceback (most recent call last)",
      "\u001b[1;32m~\\AppData\\Local\\Temp\\ipykernel_13688\\2865803000.py\u001b[0m in \u001b[0;36m<module>\u001b[1;34m\u001b[0m\n\u001b[0;32m      3\u001b[0m \u001b[1;32mfrom\u001b[0m \u001b[0mimblearn\u001b[0m\u001b[1;33m.\u001b[0m\u001b[0mpipeline\u001b[0m \u001b[1;32mimport\u001b[0m \u001b[0mPipeline\u001b[0m\u001b[1;33m\u001b[0m\u001b[1;33m\u001b[0m\u001b[0m\n\u001b[0;32m      4\u001b[0m \u001b[1;33m\u001b[0m\u001b[0m\n\u001b[1;32m----> 5\u001b[1;33m \u001b[0mX_train_oversampled\u001b[0m\u001b[1;33m,\u001b[0m \u001b[0my_train_oversampled\u001b[0m \u001b[1;33m=\u001b[0m \u001b[0msmote\u001b[0m\u001b[1;33m.\u001b[0m\u001b[0mfit_resample\u001b[0m\u001b[1;33m(\u001b[0m\u001b[0mX_train\u001b[0m\u001b[1;33m,\u001b[0m \u001b[0my_train\u001b[0m\u001b[1;33m)\u001b[0m\u001b[1;33m\u001b[0m\u001b[1;33m\u001b[0m\u001b[0m\n\u001b[0m\u001b[0;32m      6\u001b[0m \u001b[1;33m\u001b[0m\u001b[0m\n\u001b[0;32m      7\u001b[0m \u001b[1;33m\u001b[0m\u001b[0m\n",
      "\u001b[1;32mE:\\ANOCONDA\\lib\\site-packages\\imblearn\\base.py\u001b[0m in \u001b[0;36mfit_resample\u001b[1;34m(self, X, y)\u001b[0m\n\u001b[0;32m    201\u001b[0m         \"\"\"\n\u001b[0;32m    202\u001b[0m         \u001b[0mself\u001b[0m\u001b[1;33m.\u001b[0m\u001b[0m_validate_params\u001b[0m\u001b[1;33m(\u001b[0m\u001b[1;33m)\u001b[0m\u001b[1;33m\u001b[0m\u001b[1;33m\u001b[0m\u001b[0m\n\u001b[1;32m--> 203\u001b[1;33m         \u001b[1;32mreturn\u001b[0m \u001b[0msuper\u001b[0m\u001b[1;33m(\u001b[0m\u001b[1;33m)\u001b[0m\u001b[1;33m.\u001b[0m\u001b[0mfit_resample\u001b[0m\u001b[1;33m(\u001b[0m\u001b[0mX\u001b[0m\u001b[1;33m,\u001b[0m \u001b[0my\u001b[0m\u001b[1;33m)\u001b[0m\u001b[1;33m\u001b[0m\u001b[1;33m\u001b[0m\u001b[0m\n\u001b[0m\u001b[0;32m    204\u001b[0m \u001b[1;33m\u001b[0m\u001b[0m\n\u001b[0;32m    205\u001b[0m     \u001b[1;32mdef\u001b[0m \u001b[0m_more_tags\u001b[0m\u001b[1;33m(\u001b[0m\u001b[0mself\u001b[0m\u001b[1;33m)\u001b[0m\u001b[1;33m:\u001b[0m\u001b[1;33m\u001b[0m\u001b[1;33m\u001b[0m\u001b[0m\n",
      "\u001b[1;32mE:\\ANOCONDA\\lib\\site-packages\\imblearn\\base.py\u001b[0m in \u001b[0;36mfit_resample\u001b[1;34m(self, X, y)\u001b[0m\n\u001b[0;32m     80\u001b[0m         \u001b[0mcheck_classification_targets\u001b[0m\u001b[1;33m(\u001b[0m\u001b[0my\u001b[0m\u001b[1;33m)\u001b[0m\u001b[1;33m\u001b[0m\u001b[1;33m\u001b[0m\u001b[0m\n\u001b[0;32m     81\u001b[0m         \u001b[0marrays_transformer\u001b[0m \u001b[1;33m=\u001b[0m \u001b[0mArraysTransformer\u001b[0m\u001b[1;33m(\u001b[0m\u001b[0mX\u001b[0m\u001b[1;33m,\u001b[0m \u001b[0my\u001b[0m\u001b[1;33m)\u001b[0m\u001b[1;33m\u001b[0m\u001b[1;33m\u001b[0m\u001b[0m\n\u001b[1;32m---> 82\u001b[1;33m         \u001b[0mX\u001b[0m\u001b[1;33m,\u001b[0m \u001b[0my\u001b[0m\u001b[1;33m,\u001b[0m \u001b[0mbinarize_y\u001b[0m \u001b[1;33m=\u001b[0m \u001b[0mself\u001b[0m\u001b[1;33m.\u001b[0m\u001b[0m_check_X_y\u001b[0m\u001b[1;33m(\u001b[0m\u001b[0mX\u001b[0m\u001b[1;33m,\u001b[0m \u001b[0my\u001b[0m\u001b[1;33m)\u001b[0m\u001b[1;33m\u001b[0m\u001b[1;33m\u001b[0m\u001b[0m\n\u001b[0m\u001b[0;32m     83\u001b[0m \u001b[1;33m\u001b[0m\u001b[0m\n\u001b[0;32m     84\u001b[0m         self.sampling_strategy_ = check_sampling_strategy(\n",
      "\u001b[1;32mE:\\ANOCONDA\\lib\\site-packages\\imblearn\\base.py\u001b[0m in \u001b[0;36m_check_X_y\u001b[1;34m(self, X, y, accept_sparse)\u001b[0m\n\u001b[0;32m    154\u001b[0m             \u001b[0maccept_sparse\u001b[0m \u001b[1;33m=\u001b[0m \u001b[1;33m[\u001b[0m\u001b[1;34m\"csr\"\u001b[0m\u001b[1;33m,\u001b[0m \u001b[1;34m\"csc\"\u001b[0m\u001b[1;33m]\u001b[0m\u001b[1;33m\u001b[0m\u001b[1;33m\u001b[0m\u001b[0m\n\u001b[0;32m    155\u001b[0m         \u001b[0my\u001b[0m\u001b[1;33m,\u001b[0m \u001b[0mbinarize_y\u001b[0m \u001b[1;33m=\u001b[0m \u001b[0mcheck_target_type\u001b[0m\u001b[1;33m(\u001b[0m\u001b[0my\u001b[0m\u001b[1;33m,\u001b[0m \u001b[0mindicate_one_vs_all\u001b[0m\u001b[1;33m=\u001b[0m\u001b[1;32mTrue\u001b[0m\u001b[1;33m)\u001b[0m\u001b[1;33m\u001b[0m\u001b[1;33m\u001b[0m\u001b[0m\n\u001b[1;32m--> 156\u001b[1;33m         \u001b[0mX\u001b[0m\u001b[1;33m,\u001b[0m \u001b[0my\u001b[0m \u001b[1;33m=\u001b[0m \u001b[0mself\u001b[0m\u001b[1;33m.\u001b[0m\u001b[0m_validate_data\u001b[0m\u001b[1;33m(\u001b[0m\u001b[0mX\u001b[0m\u001b[1;33m,\u001b[0m \u001b[0my\u001b[0m\u001b[1;33m,\u001b[0m \u001b[0mreset\u001b[0m\u001b[1;33m=\u001b[0m\u001b[1;32mTrue\u001b[0m\u001b[1;33m,\u001b[0m \u001b[0maccept_sparse\u001b[0m\u001b[1;33m=\u001b[0m\u001b[0maccept_sparse\u001b[0m\u001b[1;33m)\u001b[0m\u001b[1;33m\u001b[0m\u001b[1;33m\u001b[0m\u001b[0m\n\u001b[0m\u001b[0;32m    157\u001b[0m         \u001b[1;32mreturn\u001b[0m \u001b[0mX\u001b[0m\u001b[1;33m,\u001b[0m \u001b[0my\u001b[0m\u001b[1;33m,\u001b[0m \u001b[0mbinarize_y\u001b[0m\u001b[1;33m\u001b[0m\u001b[1;33m\u001b[0m\u001b[0m\n\u001b[0;32m    158\u001b[0m \u001b[1;33m\u001b[0m\u001b[0m\n",
      "\u001b[1;32mE:\\ANOCONDA\\lib\\site-packages\\sklearn\\base.py\u001b[0m in \u001b[0;36m_validate_data\u001b[1;34m(self, X, y, reset, validate_separately, **check_params)\u001b[0m\n\u001b[0;32m    552\u001b[0m                 \u001b[0my\u001b[0m \u001b[1;33m=\u001b[0m \u001b[0mcheck_array\u001b[0m\u001b[1;33m(\u001b[0m\u001b[0my\u001b[0m\u001b[1;33m,\u001b[0m \u001b[0minput_name\u001b[0m\u001b[1;33m=\u001b[0m\u001b[1;34m\"y\"\u001b[0m\u001b[1;33m,\u001b[0m \u001b[1;33m**\u001b[0m\u001b[0mcheck_y_params\u001b[0m\u001b[1;33m)\u001b[0m\u001b[1;33m\u001b[0m\u001b[1;33m\u001b[0m\u001b[0m\n\u001b[0;32m    553\u001b[0m             \u001b[1;32melse\u001b[0m\u001b[1;33m:\u001b[0m\u001b[1;33m\u001b[0m\u001b[1;33m\u001b[0m\u001b[0m\n\u001b[1;32m--> 554\u001b[1;33m                 \u001b[0mX\u001b[0m\u001b[1;33m,\u001b[0m \u001b[0my\u001b[0m \u001b[1;33m=\u001b[0m \u001b[0mcheck_X_y\u001b[0m\u001b[1;33m(\u001b[0m\u001b[0mX\u001b[0m\u001b[1;33m,\u001b[0m \u001b[0my\u001b[0m\u001b[1;33m,\u001b[0m \u001b[1;33m**\u001b[0m\u001b[0mcheck_params\u001b[0m\u001b[1;33m)\u001b[0m\u001b[1;33m\u001b[0m\u001b[1;33m\u001b[0m\u001b[0m\n\u001b[0m\u001b[0;32m    555\u001b[0m             \u001b[0mout\u001b[0m \u001b[1;33m=\u001b[0m \u001b[0mX\u001b[0m\u001b[1;33m,\u001b[0m \u001b[0my\u001b[0m\u001b[1;33m\u001b[0m\u001b[1;33m\u001b[0m\u001b[0m\n\u001b[0;32m    556\u001b[0m \u001b[1;33m\u001b[0m\u001b[0m\n",
      "\u001b[1;32mE:\\ANOCONDA\\lib\\site-packages\\sklearn\\utils\\validation.py\u001b[0m in \u001b[0;36mcheck_X_y\u001b[1;34m(X, y, accept_sparse, accept_large_sparse, dtype, order, copy, force_all_finite, ensure_2d, allow_nd, multi_output, ensure_min_samples, ensure_min_features, y_numeric, estimator)\u001b[0m\n\u001b[0;32m   1120\u001b[0m     \u001b[0my\u001b[0m \u001b[1;33m=\u001b[0m \u001b[0m_check_y\u001b[0m\u001b[1;33m(\u001b[0m\u001b[0my\u001b[0m\u001b[1;33m,\u001b[0m \u001b[0mmulti_output\u001b[0m\u001b[1;33m=\u001b[0m\u001b[0mmulti_output\u001b[0m\u001b[1;33m,\u001b[0m \u001b[0my_numeric\u001b[0m\u001b[1;33m=\u001b[0m\u001b[0my_numeric\u001b[0m\u001b[1;33m,\u001b[0m \u001b[0mestimator\u001b[0m\u001b[1;33m=\u001b[0m\u001b[0mestimator\u001b[0m\u001b[1;33m)\u001b[0m\u001b[1;33m\u001b[0m\u001b[1;33m\u001b[0m\u001b[0m\n\u001b[0;32m   1121\u001b[0m \u001b[1;33m\u001b[0m\u001b[0m\n\u001b[1;32m-> 1122\u001b[1;33m     \u001b[0mcheck_consistent_length\u001b[0m\u001b[1;33m(\u001b[0m\u001b[0mX\u001b[0m\u001b[1;33m,\u001b[0m \u001b[0my\u001b[0m\u001b[1;33m)\u001b[0m\u001b[1;33m\u001b[0m\u001b[1;33m\u001b[0m\u001b[0m\n\u001b[0m\u001b[0;32m   1123\u001b[0m \u001b[1;33m\u001b[0m\u001b[0m\n\u001b[0;32m   1124\u001b[0m     \u001b[1;32mreturn\u001b[0m \u001b[0mX\u001b[0m\u001b[1;33m,\u001b[0m \u001b[0my\u001b[0m\u001b[1;33m\u001b[0m\u001b[1;33m\u001b[0m\u001b[0m\n",
      "\u001b[1;32mE:\\ANOCONDA\\lib\\site-packages\\sklearn\\utils\\validation.py\u001b[0m in \u001b[0;36mcheck_consistent_length\u001b[1;34m(*arrays)\u001b[0m\n\u001b[0;32m    395\u001b[0m     \u001b[0muniques\u001b[0m \u001b[1;33m=\u001b[0m \u001b[0mnp\u001b[0m\u001b[1;33m.\u001b[0m\u001b[0munique\u001b[0m\u001b[1;33m(\u001b[0m\u001b[0mlengths\u001b[0m\u001b[1;33m)\u001b[0m\u001b[1;33m\u001b[0m\u001b[1;33m\u001b[0m\u001b[0m\n\u001b[0;32m    396\u001b[0m     \u001b[1;32mif\u001b[0m \u001b[0mlen\u001b[0m\u001b[1;33m(\u001b[0m\u001b[0muniques\u001b[0m\u001b[1;33m)\u001b[0m \u001b[1;33m>\u001b[0m \u001b[1;36m1\u001b[0m\u001b[1;33m:\u001b[0m\u001b[1;33m\u001b[0m\u001b[1;33m\u001b[0m\u001b[0m\n\u001b[1;32m--> 397\u001b[1;33m         raise ValueError(\n\u001b[0m\u001b[0;32m    398\u001b[0m             \u001b[1;34m\"Found input variables with inconsistent numbers of samples: %r\"\u001b[0m\u001b[1;33m\u001b[0m\u001b[1;33m\u001b[0m\u001b[0m\n\u001b[0;32m    399\u001b[0m             \u001b[1;33m%\u001b[0m \u001b[1;33m[\u001b[0m\u001b[0mint\u001b[0m\u001b[1;33m(\u001b[0m\u001b[0ml\u001b[0m\u001b[1;33m)\u001b[0m \u001b[1;32mfor\u001b[0m \u001b[0ml\u001b[0m \u001b[1;32min\u001b[0m \u001b[0mlengths\u001b[0m\u001b[1;33m]\u001b[0m\u001b[1;33m\u001b[0m\u001b[1;33m\u001b[0m\u001b[0m\n",
      "\u001b[1;31mValueError\u001b[0m: Found input variables with inconsistent numbers of samples: [11145, 29593]"
     ]
    }
   ],
   "source": [
    "from imblearn.over_sampling import SMOTE\n",
    "#from imblearn.under_sampling import RandomUnderSampler\n",
    "from imblearn.pipeline import Pipeline\n",
    "\n",
    "X_train_oversampled, y_train_oversampled = smote.fit_resample(X_train, y_train)"
   ]
  },
  {
   "cell_type": "code",
   "execution_count": 139,
   "id": "ed6c6e90",
   "metadata": {},
   "outputs": [
    {
     "name": "stdout",
     "output_type": "stream",
     "text": [
      "Found input variables with inconsistent numbers of samples: [11145, 29593]\n"
     ]
    }
   ],
   "source": [
    "# # define pipeline\n",
    "# smote = SMOTE(sampling_strategy='minority')\n",
    "# X_train_oversampled, y_train_oversampled = smote.fit_resample(X_train, y_train)\n",
    "\n",
    "try:\n",
    "    smote = SMOTE(sampling_strategy='minority')\n",
    "    X_train_oversampled, y_train_oversampled = smote.fit_resample(X_train, y_train)\n",
    "except Exception as e:\n",
    "    print(e)"
   ]
  },
  {
   "cell_type": "code",
   "execution_count": null,
   "id": "5ca9719f",
   "metadata": {},
   "outputs": [],
   "source": []
  },
  {
   "cell_type": "code",
   "execution_count": null,
   "id": "e9c15aa7",
   "metadata": {},
   "outputs": [],
   "source": []
  },
  {
   "cell_type": "code",
   "execution_count": null,
   "id": "698d0cd5",
   "metadata": {},
   "outputs": [],
   "source": []
  },
  {
   "cell_type": "code",
   "execution_count": null,
   "id": "189a4c90",
   "metadata": {},
   "outputs": [],
   "source": []
  },
  {
   "cell_type": "code",
   "execution_count": null,
   "id": "2b990386",
   "metadata": {},
   "outputs": [],
   "source": []
  },
  {
   "cell_type": "markdown",
   "id": "d45c1f15",
   "metadata": {},
   "source": [
    "# Split data into train and test"
   ]
  },
  {
   "cell_type": "code",
   "execution_count": null,
   "id": "feb172e4",
   "metadata": {},
   "outputs": [],
   "source": []
  },
  {
   "cell_type": "markdown",
   "id": "3f8f293e",
   "metadata": {},
   "source": [
    "# Pipeline setup"
   ]
  },
  {
   "cell_type": "code",
   "execution_count": 47,
   "id": "2be64bfe",
   "metadata": {},
   "outputs": [],
   "source": [
    ">>> from sklearn.pipeline import Pipeline\n",
    ">>> from sklearn.model_selection import train_test_split\n",
    "\n",
    "from sklearn.preprocessing import MinMaxScaler\n",
    "from sklearn.linear_model import LogisticRegression"
   ]
  },
  {
   "cell_type": "code",
   "execution_count": 48,
   "id": "7ae73e07",
   "metadata": {},
   "outputs": [
    {
     "ename": "ValueError",
     "evalue": "could not convert string to float: 'fffe43004900440035003000340036003200'",
     "output_type": "error",
     "traceback": [
      "\u001b[1;31m---------------------------------------------------------------------------\u001b[0m",
      "\u001b[1;31mValueError\u001b[0m                                Traceback (most recent call last)",
      "\u001b[1;32m~\\AppData\\Local\\Temp\\ipykernel_13688\\1504190612.py\u001b[0m in \u001b[0;36m<module>\u001b[1;34m\u001b[0m\n\u001b[0;32m      5\u001b[0m \u001b[0mmodel_1\u001b[0m \u001b[1;33m=\u001b[0m \u001b[0mPipeline\u001b[0m\u001b[1;33m(\u001b[0m\u001b[0msteps\u001b[0m\u001b[1;33m=\u001b[0m\u001b[0mmysteps1\u001b[0m\u001b[1;33m)\u001b[0m\u001b[1;33m\u001b[0m\u001b[1;33m\u001b[0m\u001b[0m\n\u001b[0;32m      6\u001b[0m \u001b[1;33m\u001b[0m\u001b[0m\n\u001b[1;32m----> 7\u001b[1;33m \u001b[0mmodel_1\u001b[0m \u001b[1;33m=\u001b[0m \u001b[0mmodel_1\u001b[0m\u001b[1;33m.\u001b[0m\u001b[0mfit\u001b[0m\u001b[1;33m(\u001b[0m\u001b[0mX_train\u001b[0m\u001b[1;33m,\u001b[0m \u001b[0my_train\u001b[0m\u001b[1;33m)\u001b[0m\u001b[1;33m\u001b[0m\u001b[1;33m\u001b[0m\u001b[0m\n\u001b[0m\u001b[0;32m      8\u001b[0m \u001b[1;33m\u001b[0m\u001b[0m\n\u001b[0;32m      9\u001b[0m \u001b[0my_train_pred_1\u001b[0m \u001b[1;33m=\u001b[0m \u001b[0mmodel_1\u001b[0m\u001b[1;33m.\u001b[0m\u001b[0mpredict\u001b[0m\u001b[1;33m(\u001b[0m\u001b[0mX_train\u001b[0m\u001b[1;33m)\u001b[0m\u001b[1;33m\u001b[0m\u001b[1;33m\u001b[0m\u001b[0m\n",
      "\u001b[1;32mE:\\ANOCONDA\\lib\\site-packages\\sklearn\\pipeline.py\u001b[0m in \u001b[0;36mfit\u001b[1;34m(self, X, y, **fit_params)\u001b[0m\n\u001b[0;32m    400\u001b[0m         \"\"\"\n\u001b[0;32m    401\u001b[0m         \u001b[0mfit_params_steps\u001b[0m \u001b[1;33m=\u001b[0m \u001b[0mself\u001b[0m\u001b[1;33m.\u001b[0m\u001b[0m_check_fit_params\u001b[0m\u001b[1;33m(\u001b[0m\u001b[1;33m**\u001b[0m\u001b[0mfit_params\u001b[0m\u001b[1;33m)\u001b[0m\u001b[1;33m\u001b[0m\u001b[1;33m\u001b[0m\u001b[0m\n\u001b[1;32m--> 402\u001b[1;33m         \u001b[0mXt\u001b[0m \u001b[1;33m=\u001b[0m \u001b[0mself\u001b[0m\u001b[1;33m.\u001b[0m\u001b[0m_fit\u001b[0m\u001b[1;33m(\u001b[0m\u001b[0mX\u001b[0m\u001b[1;33m,\u001b[0m \u001b[0my\u001b[0m\u001b[1;33m,\u001b[0m \u001b[1;33m**\u001b[0m\u001b[0mfit_params_steps\u001b[0m\u001b[1;33m)\u001b[0m\u001b[1;33m\u001b[0m\u001b[1;33m\u001b[0m\u001b[0m\n\u001b[0m\u001b[0;32m    403\u001b[0m         \u001b[1;32mwith\u001b[0m \u001b[0m_print_elapsed_time\u001b[0m\u001b[1;33m(\u001b[0m\u001b[1;34m\"Pipeline\"\u001b[0m\u001b[1;33m,\u001b[0m \u001b[0mself\u001b[0m\u001b[1;33m.\u001b[0m\u001b[0m_log_message\u001b[0m\u001b[1;33m(\u001b[0m\u001b[0mlen\u001b[0m\u001b[1;33m(\u001b[0m\u001b[0mself\u001b[0m\u001b[1;33m.\u001b[0m\u001b[0msteps\u001b[0m\u001b[1;33m)\u001b[0m \u001b[1;33m-\u001b[0m \u001b[1;36m1\u001b[0m\u001b[1;33m)\u001b[0m\u001b[1;33m)\u001b[0m\u001b[1;33m:\u001b[0m\u001b[1;33m\u001b[0m\u001b[1;33m\u001b[0m\u001b[0m\n\u001b[0;32m    404\u001b[0m             \u001b[1;32mif\u001b[0m \u001b[0mself\u001b[0m\u001b[1;33m.\u001b[0m\u001b[0m_final_estimator\u001b[0m \u001b[1;33m!=\u001b[0m \u001b[1;34m\"passthrough\"\u001b[0m\u001b[1;33m:\u001b[0m\u001b[1;33m\u001b[0m\u001b[1;33m\u001b[0m\u001b[0m\n",
      "\u001b[1;32mE:\\ANOCONDA\\lib\\site-packages\\sklearn\\pipeline.py\u001b[0m in \u001b[0;36m_fit\u001b[1;34m(self, X, y, **fit_params_steps)\u001b[0m\n\u001b[0;32m    358\u001b[0m                 \u001b[0mcloned_transformer\u001b[0m \u001b[1;33m=\u001b[0m \u001b[0mclone\u001b[0m\u001b[1;33m(\u001b[0m\u001b[0mtransformer\u001b[0m\u001b[1;33m)\u001b[0m\u001b[1;33m\u001b[0m\u001b[1;33m\u001b[0m\u001b[0m\n\u001b[0;32m    359\u001b[0m             \u001b[1;31m# Fit or load from cache the current transformer\u001b[0m\u001b[1;33m\u001b[0m\u001b[1;33m\u001b[0m\u001b[0m\n\u001b[1;32m--> 360\u001b[1;33m             X, fitted_transformer = fit_transform_one_cached(\n\u001b[0m\u001b[0;32m    361\u001b[0m                 \u001b[0mcloned_transformer\u001b[0m\u001b[1;33m,\u001b[0m\u001b[1;33m\u001b[0m\u001b[1;33m\u001b[0m\u001b[0m\n\u001b[0;32m    362\u001b[0m                 \u001b[0mX\u001b[0m\u001b[1;33m,\u001b[0m\u001b[1;33m\u001b[0m\u001b[1;33m\u001b[0m\u001b[0m\n",
      "\u001b[1;32mE:\\ANOCONDA\\lib\\site-packages\\joblib\\memory.py\u001b[0m in \u001b[0;36m__call__\u001b[1;34m(self, *args, **kwargs)\u001b[0m\n\u001b[0;32m    347\u001b[0m \u001b[1;33m\u001b[0m\u001b[0m\n\u001b[0;32m    348\u001b[0m     \u001b[1;32mdef\u001b[0m \u001b[0m__call__\u001b[0m\u001b[1;33m(\u001b[0m\u001b[0mself\u001b[0m\u001b[1;33m,\u001b[0m \u001b[1;33m*\u001b[0m\u001b[0margs\u001b[0m\u001b[1;33m,\u001b[0m \u001b[1;33m**\u001b[0m\u001b[0mkwargs\u001b[0m\u001b[1;33m)\u001b[0m\u001b[1;33m:\u001b[0m\u001b[1;33m\u001b[0m\u001b[1;33m\u001b[0m\u001b[0m\n\u001b[1;32m--> 349\u001b[1;33m         \u001b[1;32mreturn\u001b[0m \u001b[0mself\u001b[0m\u001b[1;33m.\u001b[0m\u001b[0mfunc\u001b[0m\u001b[1;33m(\u001b[0m\u001b[1;33m*\u001b[0m\u001b[0margs\u001b[0m\u001b[1;33m,\u001b[0m \u001b[1;33m**\u001b[0m\u001b[0mkwargs\u001b[0m\u001b[1;33m)\u001b[0m\u001b[1;33m\u001b[0m\u001b[1;33m\u001b[0m\u001b[0m\n\u001b[0m\u001b[0;32m    350\u001b[0m \u001b[1;33m\u001b[0m\u001b[0m\n\u001b[0;32m    351\u001b[0m     \u001b[1;32mdef\u001b[0m \u001b[0mcall_and_shelve\u001b[0m\u001b[1;33m(\u001b[0m\u001b[0mself\u001b[0m\u001b[1;33m,\u001b[0m \u001b[1;33m*\u001b[0m\u001b[0margs\u001b[0m\u001b[1;33m,\u001b[0m \u001b[1;33m**\u001b[0m\u001b[0mkwargs\u001b[0m\u001b[1;33m)\u001b[0m\u001b[1;33m:\u001b[0m\u001b[1;33m\u001b[0m\u001b[1;33m\u001b[0m\u001b[0m\n",
      "\u001b[1;32mE:\\ANOCONDA\\lib\\site-packages\\sklearn\\pipeline.py\u001b[0m in \u001b[0;36m_fit_transform_one\u001b[1;34m(transformer, X, y, weight, message_clsname, message, **fit_params)\u001b[0m\n\u001b[0;32m    892\u001b[0m     \u001b[1;32mwith\u001b[0m \u001b[0m_print_elapsed_time\u001b[0m\u001b[1;33m(\u001b[0m\u001b[0mmessage_clsname\u001b[0m\u001b[1;33m,\u001b[0m \u001b[0mmessage\u001b[0m\u001b[1;33m)\u001b[0m\u001b[1;33m:\u001b[0m\u001b[1;33m\u001b[0m\u001b[1;33m\u001b[0m\u001b[0m\n\u001b[0;32m    893\u001b[0m         \u001b[1;32mif\u001b[0m \u001b[0mhasattr\u001b[0m\u001b[1;33m(\u001b[0m\u001b[0mtransformer\u001b[0m\u001b[1;33m,\u001b[0m \u001b[1;34m\"fit_transform\"\u001b[0m\u001b[1;33m)\u001b[0m\u001b[1;33m:\u001b[0m\u001b[1;33m\u001b[0m\u001b[1;33m\u001b[0m\u001b[0m\n\u001b[1;32m--> 894\u001b[1;33m             \u001b[0mres\u001b[0m \u001b[1;33m=\u001b[0m \u001b[0mtransformer\u001b[0m\u001b[1;33m.\u001b[0m\u001b[0mfit_transform\u001b[0m\u001b[1;33m(\u001b[0m\u001b[0mX\u001b[0m\u001b[1;33m,\u001b[0m \u001b[0my\u001b[0m\u001b[1;33m,\u001b[0m \u001b[1;33m**\u001b[0m\u001b[0mfit_params\u001b[0m\u001b[1;33m)\u001b[0m\u001b[1;33m\u001b[0m\u001b[1;33m\u001b[0m\u001b[0m\n\u001b[0m\u001b[0;32m    895\u001b[0m         \u001b[1;32melse\u001b[0m\u001b[1;33m:\u001b[0m\u001b[1;33m\u001b[0m\u001b[1;33m\u001b[0m\u001b[0m\n\u001b[0;32m    896\u001b[0m             \u001b[0mres\u001b[0m \u001b[1;33m=\u001b[0m \u001b[0mtransformer\u001b[0m\u001b[1;33m.\u001b[0m\u001b[0mfit\u001b[0m\u001b[1;33m(\u001b[0m\u001b[0mX\u001b[0m\u001b[1;33m,\u001b[0m \u001b[0my\u001b[0m\u001b[1;33m,\u001b[0m \u001b[1;33m**\u001b[0m\u001b[0mfit_params\u001b[0m\u001b[1;33m)\u001b[0m\u001b[1;33m.\u001b[0m\u001b[0mtransform\u001b[0m\u001b[1;33m(\u001b[0m\u001b[0mX\u001b[0m\u001b[1;33m)\u001b[0m\u001b[1;33m\u001b[0m\u001b[1;33m\u001b[0m\u001b[0m\n",
      "\u001b[1;32mE:\\ANOCONDA\\lib\\site-packages\\sklearn\\utils\\_set_output.py\u001b[0m in \u001b[0;36mwrapped\u001b[1;34m(self, X, *args, **kwargs)\u001b[0m\n\u001b[0;32m    140\u001b[0m     \u001b[1;33m@\u001b[0m\u001b[0mwraps\u001b[0m\u001b[1;33m(\u001b[0m\u001b[0mf\u001b[0m\u001b[1;33m)\u001b[0m\u001b[1;33m\u001b[0m\u001b[1;33m\u001b[0m\u001b[0m\n\u001b[0;32m    141\u001b[0m     \u001b[1;32mdef\u001b[0m \u001b[0mwrapped\u001b[0m\u001b[1;33m(\u001b[0m\u001b[0mself\u001b[0m\u001b[1;33m,\u001b[0m \u001b[0mX\u001b[0m\u001b[1;33m,\u001b[0m \u001b[1;33m*\u001b[0m\u001b[0margs\u001b[0m\u001b[1;33m,\u001b[0m \u001b[1;33m**\u001b[0m\u001b[0mkwargs\u001b[0m\u001b[1;33m)\u001b[0m\u001b[1;33m:\u001b[0m\u001b[1;33m\u001b[0m\u001b[1;33m\u001b[0m\u001b[0m\n\u001b[1;32m--> 142\u001b[1;33m         \u001b[0mdata_to_wrap\u001b[0m \u001b[1;33m=\u001b[0m \u001b[0mf\u001b[0m\u001b[1;33m(\u001b[0m\u001b[0mself\u001b[0m\u001b[1;33m,\u001b[0m \u001b[0mX\u001b[0m\u001b[1;33m,\u001b[0m \u001b[1;33m*\u001b[0m\u001b[0margs\u001b[0m\u001b[1;33m,\u001b[0m \u001b[1;33m**\u001b[0m\u001b[0mkwargs\u001b[0m\u001b[1;33m)\u001b[0m\u001b[1;33m\u001b[0m\u001b[1;33m\u001b[0m\u001b[0m\n\u001b[0m\u001b[0;32m    143\u001b[0m         \u001b[1;32mif\u001b[0m \u001b[0misinstance\u001b[0m\u001b[1;33m(\u001b[0m\u001b[0mdata_to_wrap\u001b[0m\u001b[1;33m,\u001b[0m \u001b[0mtuple\u001b[0m\u001b[1;33m)\u001b[0m\u001b[1;33m:\u001b[0m\u001b[1;33m\u001b[0m\u001b[1;33m\u001b[0m\u001b[0m\n\u001b[0;32m    144\u001b[0m             \u001b[1;31m# only wrap the first output for cross decomposition\u001b[0m\u001b[1;33m\u001b[0m\u001b[1;33m\u001b[0m\u001b[0m\n",
      "\u001b[1;32mE:\\ANOCONDA\\lib\\site-packages\\sklearn\\utils\\_set_output.py\u001b[0m in \u001b[0;36mwrapped\u001b[1;34m(self, X, *args, **kwargs)\u001b[0m\n\u001b[0;32m    140\u001b[0m     \u001b[1;33m@\u001b[0m\u001b[0mwraps\u001b[0m\u001b[1;33m(\u001b[0m\u001b[0mf\u001b[0m\u001b[1;33m)\u001b[0m\u001b[1;33m\u001b[0m\u001b[1;33m\u001b[0m\u001b[0m\n\u001b[0;32m    141\u001b[0m     \u001b[1;32mdef\u001b[0m \u001b[0mwrapped\u001b[0m\u001b[1;33m(\u001b[0m\u001b[0mself\u001b[0m\u001b[1;33m,\u001b[0m \u001b[0mX\u001b[0m\u001b[1;33m,\u001b[0m \u001b[1;33m*\u001b[0m\u001b[0margs\u001b[0m\u001b[1;33m,\u001b[0m \u001b[1;33m**\u001b[0m\u001b[0mkwargs\u001b[0m\u001b[1;33m)\u001b[0m\u001b[1;33m:\u001b[0m\u001b[1;33m\u001b[0m\u001b[1;33m\u001b[0m\u001b[0m\n\u001b[1;32m--> 142\u001b[1;33m         \u001b[0mdata_to_wrap\u001b[0m \u001b[1;33m=\u001b[0m \u001b[0mf\u001b[0m\u001b[1;33m(\u001b[0m\u001b[0mself\u001b[0m\u001b[1;33m,\u001b[0m \u001b[0mX\u001b[0m\u001b[1;33m,\u001b[0m \u001b[1;33m*\u001b[0m\u001b[0margs\u001b[0m\u001b[1;33m,\u001b[0m \u001b[1;33m**\u001b[0m\u001b[0mkwargs\u001b[0m\u001b[1;33m)\u001b[0m\u001b[1;33m\u001b[0m\u001b[1;33m\u001b[0m\u001b[0m\n\u001b[0m\u001b[0;32m    143\u001b[0m         \u001b[1;32mif\u001b[0m \u001b[0misinstance\u001b[0m\u001b[1;33m(\u001b[0m\u001b[0mdata_to_wrap\u001b[0m\u001b[1;33m,\u001b[0m \u001b[0mtuple\u001b[0m\u001b[1;33m)\u001b[0m\u001b[1;33m:\u001b[0m\u001b[1;33m\u001b[0m\u001b[1;33m\u001b[0m\u001b[0m\n\u001b[0;32m    144\u001b[0m             \u001b[1;31m# only wrap the first output for cross decomposition\u001b[0m\u001b[1;33m\u001b[0m\u001b[1;33m\u001b[0m\u001b[0m\n",
      "\u001b[1;32mE:\\ANOCONDA\\lib\\site-packages\\sklearn\\base.py\u001b[0m in \u001b[0;36mfit_transform\u001b[1;34m(self, X, y, **fit_params)\u001b[0m\n\u001b[0;32m    849\u001b[0m         \u001b[1;32melse\u001b[0m\u001b[1;33m:\u001b[0m\u001b[1;33m\u001b[0m\u001b[1;33m\u001b[0m\u001b[0m\n\u001b[0;32m    850\u001b[0m             \u001b[1;31m# fit method of arity 2 (supervised transformation)\u001b[0m\u001b[1;33m\u001b[0m\u001b[1;33m\u001b[0m\u001b[0m\n\u001b[1;32m--> 851\u001b[1;33m             \u001b[1;32mreturn\u001b[0m \u001b[0mself\u001b[0m\u001b[1;33m.\u001b[0m\u001b[0mfit\u001b[0m\u001b[1;33m(\u001b[0m\u001b[0mX\u001b[0m\u001b[1;33m,\u001b[0m \u001b[0my\u001b[0m\u001b[1;33m,\u001b[0m \u001b[1;33m**\u001b[0m\u001b[0mfit_params\u001b[0m\u001b[1;33m)\u001b[0m\u001b[1;33m.\u001b[0m\u001b[0mtransform\u001b[0m\u001b[1;33m(\u001b[0m\u001b[0mX\u001b[0m\u001b[1;33m)\u001b[0m\u001b[1;33m\u001b[0m\u001b[1;33m\u001b[0m\u001b[0m\n\u001b[0m\u001b[0;32m    852\u001b[0m \u001b[1;33m\u001b[0m\u001b[0m\n\u001b[0;32m    853\u001b[0m \u001b[1;33m\u001b[0m\u001b[0m\n",
      "\u001b[1;32mE:\\ANOCONDA\\lib\\site-packages\\sklearn\\preprocessing\\_data.py\u001b[0m in \u001b[0;36mfit\u001b[1;34m(self, X, y)\u001b[0m\n\u001b[0;32m    425\u001b[0m         \u001b[1;31m# Reset internal state before fitting\u001b[0m\u001b[1;33m\u001b[0m\u001b[1;33m\u001b[0m\u001b[0m\n\u001b[0;32m    426\u001b[0m         \u001b[0mself\u001b[0m\u001b[1;33m.\u001b[0m\u001b[0m_reset\u001b[0m\u001b[1;33m(\u001b[0m\u001b[1;33m)\u001b[0m\u001b[1;33m\u001b[0m\u001b[1;33m\u001b[0m\u001b[0m\n\u001b[1;32m--> 427\u001b[1;33m         \u001b[1;32mreturn\u001b[0m \u001b[0mself\u001b[0m\u001b[1;33m.\u001b[0m\u001b[0mpartial_fit\u001b[0m\u001b[1;33m(\u001b[0m\u001b[0mX\u001b[0m\u001b[1;33m,\u001b[0m \u001b[0my\u001b[0m\u001b[1;33m)\u001b[0m\u001b[1;33m\u001b[0m\u001b[1;33m\u001b[0m\u001b[0m\n\u001b[0m\u001b[0;32m    428\u001b[0m \u001b[1;33m\u001b[0m\u001b[0m\n\u001b[0;32m    429\u001b[0m     \u001b[1;32mdef\u001b[0m \u001b[0mpartial_fit\u001b[0m\u001b[1;33m(\u001b[0m\u001b[0mself\u001b[0m\u001b[1;33m,\u001b[0m \u001b[0mX\u001b[0m\u001b[1;33m,\u001b[0m \u001b[0my\u001b[0m\u001b[1;33m=\u001b[0m\u001b[1;32mNone\u001b[0m\u001b[1;33m)\u001b[0m\u001b[1;33m:\u001b[0m\u001b[1;33m\u001b[0m\u001b[1;33m\u001b[0m\u001b[0m\n",
      "\u001b[1;32mE:\\ANOCONDA\\lib\\site-packages\\sklearn\\preprocessing\\_data.py\u001b[0m in \u001b[0;36mpartial_fit\u001b[1;34m(self, X, y)\u001b[0m\n\u001b[0;32m    464\u001b[0m \u001b[1;33m\u001b[0m\u001b[0m\n\u001b[0;32m    465\u001b[0m         \u001b[0mfirst_pass\u001b[0m \u001b[1;33m=\u001b[0m \u001b[1;32mnot\u001b[0m \u001b[0mhasattr\u001b[0m\u001b[1;33m(\u001b[0m\u001b[0mself\u001b[0m\u001b[1;33m,\u001b[0m \u001b[1;34m\"n_samples_seen_\"\u001b[0m\u001b[1;33m)\u001b[0m\u001b[1;33m\u001b[0m\u001b[1;33m\u001b[0m\u001b[0m\n\u001b[1;32m--> 466\u001b[1;33m         X = self._validate_data(\n\u001b[0m\u001b[0;32m    467\u001b[0m             \u001b[0mX\u001b[0m\u001b[1;33m,\u001b[0m\u001b[1;33m\u001b[0m\u001b[1;33m\u001b[0m\u001b[0m\n\u001b[0;32m    468\u001b[0m             \u001b[0mreset\u001b[0m\u001b[1;33m=\u001b[0m\u001b[0mfirst_pass\u001b[0m\u001b[1;33m,\u001b[0m\u001b[1;33m\u001b[0m\u001b[1;33m\u001b[0m\u001b[0m\n",
      "\u001b[1;32mE:\\ANOCONDA\\lib\\site-packages\\sklearn\\base.py\u001b[0m in \u001b[0;36m_validate_data\u001b[1;34m(self, X, y, reset, validate_separately, **check_params)\u001b[0m\n\u001b[0;32m    533\u001b[0m             \u001b[1;32mraise\u001b[0m \u001b[0mValueError\u001b[0m\u001b[1;33m(\u001b[0m\u001b[1;34m\"Validation should be done on X, y or both.\"\u001b[0m\u001b[1;33m)\u001b[0m\u001b[1;33m\u001b[0m\u001b[1;33m\u001b[0m\u001b[0m\n\u001b[0;32m    534\u001b[0m         \u001b[1;32melif\u001b[0m \u001b[1;32mnot\u001b[0m \u001b[0mno_val_X\u001b[0m \u001b[1;32mand\u001b[0m \u001b[0mno_val_y\u001b[0m\u001b[1;33m:\u001b[0m\u001b[1;33m\u001b[0m\u001b[1;33m\u001b[0m\u001b[0m\n\u001b[1;32m--> 535\u001b[1;33m             \u001b[0mX\u001b[0m \u001b[1;33m=\u001b[0m \u001b[0mcheck_array\u001b[0m\u001b[1;33m(\u001b[0m\u001b[0mX\u001b[0m\u001b[1;33m,\u001b[0m \u001b[0minput_name\u001b[0m\u001b[1;33m=\u001b[0m\u001b[1;34m\"X\"\u001b[0m\u001b[1;33m,\u001b[0m \u001b[1;33m**\u001b[0m\u001b[0mcheck_params\u001b[0m\u001b[1;33m)\u001b[0m\u001b[1;33m\u001b[0m\u001b[1;33m\u001b[0m\u001b[0m\n\u001b[0m\u001b[0;32m    536\u001b[0m             \u001b[0mout\u001b[0m \u001b[1;33m=\u001b[0m \u001b[0mX\u001b[0m\u001b[1;33m\u001b[0m\u001b[1;33m\u001b[0m\u001b[0m\n\u001b[0;32m    537\u001b[0m         \u001b[1;32melif\u001b[0m \u001b[0mno_val_X\u001b[0m \u001b[1;32mand\u001b[0m \u001b[1;32mnot\u001b[0m \u001b[0mno_val_y\u001b[0m\u001b[1;33m:\u001b[0m\u001b[1;33m\u001b[0m\u001b[1;33m\u001b[0m\u001b[0m\n",
      "\u001b[1;32mE:\\ANOCONDA\\lib\\site-packages\\sklearn\\utils\\validation.py\u001b[0m in \u001b[0;36mcheck_array\u001b[1;34m(array, accept_sparse, accept_large_sparse, dtype, order, copy, force_all_finite, ensure_2d, allow_nd, ensure_min_samples, ensure_min_features, estimator, input_name)\u001b[0m\n\u001b[0;32m    875\u001b[0m                     \u001b[0marray\u001b[0m \u001b[1;33m=\u001b[0m \u001b[0mxp\u001b[0m\u001b[1;33m.\u001b[0m\u001b[0mastype\u001b[0m\u001b[1;33m(\u001b[0m\u001b[0marray\u001b[0m\u001b[1;33m,\u001b[0m \u001b[0mdtype\u001b[0m\u001b[1;33m,\u001b[0m \u001b[0mcopy\u001b[0m\u001b[1;33m=\u001b[0m\u001b[1;32mFalse\u001b[0m\u001b[1;33m)\u001b[0m\u001b[1;33m\u001b[0m\u001b[1;33m\u001b[0m\u001b[0m\n\u001b[0;32m    876\u001b[0m                 \u001b[1;32melse\u001b[0m\u001b[1;33m:\u001b[0m\u001b[1;33m\u001b[0m\u001b[1;33m\u001b[0m\u001b[0m\n\u001b[1;32m--> 877\u001b[1;33m                     \u001b[0marray\u001b[0m \u001b[1;33m=\u001b[0m \u001b[0m_asarray_with_order\u001b[0m\u001b[1;33m(\u001b[0m\u001b[0marray\u001b[0m\u001b[1;33m,\u001b[0m \u001b[0morder\u001b[0m\u001b[1;33m=\u001b[0m\u001b[0morder\u001b[0m\u001b[1;33m,\u001b[0m \u001b[0mdtype\u001b[0m\u001b[1;33m=\u001b[0m\u001b[0mdtype\u001b[0m\u001b[1;33m,\u001b[0m \u001b[0mxp\u001b[0m\u001b[1;33m=\u001b[0m\u001b[0mxp\u001b[0m\u001b[1;33m)\u001b[0m\u001b[1;33m\u001b[0m\u001b[1;33m\u001b[0m\u001b[0m\n\u001b[0m\u001b[0;32m    878\u001b[0m             \u001b[1;32mexcept\u001b[0m \u001b[0mComplexWarning\u001b[0m \u001b[1;32mas\u001b[0m \u001b[0mcomplex_warning\u001b[0m\u001b[1;33m:\u001b[0m\u001b[1;33m\u001b[0m\u001b[1;33m\u001b[0m\u001b[0m\n\u001b[0;32m    879\u001b[0m                 raise ValueError(\n",
      "\u001b[1;32mE:\\ANOCONDA\\lib\\site-packages\\sklearn\\utils\\_array_api.py\u001b[0m in \u001b[0;36m_asarray_with_order\u001b[1;34m(array, dtype, order, copy, xp)\u001b[0m\n\u001b[0;32m    183\u001b[0m     \u001b[1;32mif\u001b[0m \u001b[0mxp\u001b[0m\u001b[1;33m.\u001b[0m\u001b[0m__name__\u001b[0m \u001b[1;32min\u001b[0m \u001b[1;33m{\u001b[0m\u001b[1;34m\"numpy\"\u001b[0m\u001b[1;33m,\u001b[0m \u001b[1;34m\"numpy.array_api\"\u001b[0m\u001b[1;33m}\u001b[0m\u001b[1;33m:\u001b[0m\u001b[1;33m\u001b[0m\u001b[1;33m\u001b[0m\u001b[0m\n\u001b[0;32m    184\u001b[0m         \u001b[1;31m# Use NumPy API to support order\u001b[0m\u001b[1;33m\u001b[0m\u001b[1;33m\u001b[0m\u001b[0m\n\u001b[1;32m--> 185\u001b[1;33m         \u001b[0marray\u001b[0m \u001b[1;33m=\u001b[0m \u001b[0mnumpy\u001b[0m\u001b[1;33m.\u001b[0m\u001b[0masarray\u001b[0m\u001b[1;33m(\u001b[0m\u001b[0marray\u001b[0m\u001b[1;33m,\u001b[0m \u001b[0morder\u001b[0m\u001b[1;33m=\u001b[0m\u001b[0morder\u001b[0m\u001b[1;33m,\u001b[0m \u001b[0mdtype\u001b[0m\u001b[1;33m=\u001b[0m\u001b[0mdtype\u001b[0m\u001b[1;33m)\u001b[0m\u001b[1;33m\u001b[0m\u001b[1;33m\u001b[0m\u001b[0m\n\u001b[0m\u001b[0;32m    186\u001b[0m         \u001b[1;32mreturn\u001b[0m \u001b[0mxp\u001b[0m\u001b[1;33m.\u001b[0m\u001b[0masarray\u001b[0m\u001b[1;33m(\u001b[0m\u001b[0marray\u001b[0m\u001b[1;33m,\u001b[0m \u001b[0mcopy\u001b[0m\u001b[1;33m=\u001b[0m\u001b[0mcopy\u001b[0m\u001b[1;33m)\u001b[0m\u001b[1;33m\u001b[0m\u001b[1;33m\u001b[0m\u001b[0m\n\u001b[0;32m    187\u001b[0m     \u001b[1;32melse\u001b[0m\u001b[1;33m:\u001b[0m\u001b[1;33m\u001b[0m\u001b[1;33m\u001b[0m\u001b[0m\n",
      "\u001b[1;32mE:\\ANOCONDA\\lib\\site-packages\\pandas\\core\\generic.py\u001b[0m in \u001b[0;36m__array__\u001b[1;34m(self, dtype)\u001b[0m\n\u001b[0;32m   2062\u001b[0m \u001b[1;33m\u001b[0m\u001b[0m\n\u001b[0;32m   2063\u001b[0m     \u001b[1;32mdef\u001b[0m \u001b[0m__array__\u001b[0m\u001b[1;33m(\u001b[0m\u001b[0mself\u001b[0m\u001b[1;33m,\u001b[0m \u001b[0mdtype\u001b[0m\u001b[1;33m:\u001b[0m \u001b[0mnpt\u001b[0m\u001b[1;33m.\u001b[0m\u001b[0mDTypeLike\u001b[0m \u001b[1;33m|\u001b[0m \u001b[1;32mNone\u001b[0m \u001b[1;33m=\u001b[0m \u001b[1;32mNone\u001b[0m\u001b[1;33m)\u001b[0m \u001b[1;33m->\u001b[0m \u001b[0mnp\u001b[0m\u001b[1;33m.\u001b[0m\u001b[0mndarray\u001b[0m\u001b[1;33m:\u001b[0m\u001b[1;33m\u001b[0m\u001b[1;33m\u001b[0m\u001b[0m\n\u001b[1;32m-> 2064\u001b[1;33m         \u001b[1;32mreturn\u001b[0m \u001b[0mnp\u001b[0m\u001b[1;33m.\u001b[0m\u001b[0masarray\u001b[0m\u001b[1;33m(\u001b[0m\u001b[0mself\u001b[0m\u001b[1;33m.\u001b[0m\u001b[0m_values\u001b[0m\u001b[1;33m,\u001b[0m \u001b[0mdtype\u001b[0m\u001b[1;33m=\u001b[0m\u001b[0mdtype\u001b[0m\u001b[1;33m)\u001b[0m\u001b[1;33m\u001b[0m\u001b[1;33m\u001b[0m\u001b[0m\n\u001b[0m\u001b[0;32m   2065\u001b[0m \u001b[1;33m\u001b[0m\u001b[0m\n\u001b[0;32m   2066\u001b[0m     def __array_wrap__(\n",
      "\u001b[1;31mValueError\u001b[0m: could not convert string to float: 'fffe43004900440035003000340036003200'"
     ]
    }
   ],
   "source": [
    "mysteps1 = [\n",
    "         ('rescale', MinMaxScaler()), \n",
    "         ('lgr', LogisticRegression(random_state=42))] \n",
    "\n",
    "model_1 = Pipeline(steps=mysteps1)\n",
    "\n",
    "model_1 = model_1.fit(X_train, y_train) \n",
    "\n",
    "y_train_pred_1 = model_1.predict(X_train)\n",
    "\n",
    "y_test_pred_1 = model_1.predict(X_test)"
   ]
  },
  {
   "cell_type": "markdown",
   "id": "74193ce0",
   "metadata": {},
   "source": [
    "## accuracy report of traing and test datasets"
   ]
  },
  {
   "cell_type": "code",
   "execution_count": null,
   "id": "8355ab8f",
   "metadata": {},
   "outputs": [],
   "source": [
    "from sklearn import metrics\n",
    "\n",
    "print (\"train_accuracy_score: \", metrics.accuracy_score(y_train, y_train_pred_1))\n",
    "print ('**********************************************')\n",
    "print (\"test_accuracy_score: \", metrics.accuracy_score(y_test, y_test_pred_1))\n",
    "\n",
    "print ('**********************************************')\n",
    "\n",
    "print (\"train_classification_report \\n\", metrics.classification_report(y_train, y_train_pred_1))\n",
    "print ('**********************************************')\n",
    "print (\"test_classification_report \\n\", metrics.classification_report(y_test, y_test_pred_1))"
   ]
  },
  {
   "cell_type": "markdown",
   "id": "5f5122e5",
   "metadata": {},
   "source": [
    "## Confusion matrix of traina and test datasets"
   ]
  },
  {
   "cell_type": "code",
   "execution_count": null,
   "id": "fda4bf26",
   "metadata": {},
   "outputs": [],
   "source": [
    "cm_train=metrics.confusion_matrix(y_train, y_train_pred_1)\n",
    "\n",
    "fig, ax = plt.subplots(figsize=(5, 5))\n",
    "ax.matshow(cm_train, cmap=plt.cm.Blues, alpha=0.3)\n",
    "for i in range(cm_train.shape[0]):\n",
    "    for j in range(cm_train.shape[1]):\n",
    "        ax.text(x=j, y=i,s=cm_train[i, j], va='center', ha='center', size='x-large')\n",
    " \n",
    "plt.xlabel('Predictions', fontsize=12)\n",
    "plt.ylabel('Actuals', fontsize=12)\n",
    "plt.title('Train Confusion Matrix', fontsize=12)\n",
    "plt.show()"
   ]
  },
  {
   "cell_type": "code",
   "execution_count": null,
   "id": "ccb54013",
   "metadata": {},
   "outputs": [],
   "source": [
    "cm_train = metrics.confusion_matrix(y_test, y_test_pred_1)\n",
    "\n",
    "fig, ax = plt.subplots(figsize=(5, 5))\n",
    "ax.matshow(cm_train, cmap=plt.cm.Blues, alpha=0.3)\n",
    "for i in range(cm_train.shape[0]):\n",
    "    for j in range(cm_train.shape[1]):\n",
    "        ax.text(x=j, y=i,s=cm_train[i, j], va='center', ha='center', size='x-large')\n",
    " \n",
    "plt.xlabel('Predictions', fontsize=12)\n",
    "plt.ylabel('Actuals', fontsize=12)\n",
    "plt.title('Train Confusion Matrix', fontsize=12)\n",
    "plt.show()"
   ]
  },
  {
   "cell_type": "code",
   "execution_count": null,
   "id": "723611e4",
   "metadata": {},
   "outputs": [],
   "source": [
    "from sklearn.metrics import roc_auc_score\n",
    "roc_auc_score(y_train, model_1.predict_proba(X_train)[:, 1])"
   ]
  },
  {
   "cell_type": "code",
   "execution_count": null,
   "id": "79062f3d",
   "metadata": {},
   "outputs": [],
   "source": [
    "roc_auc_score_1 = roc_auc_score(y_test, model_1.predict_proba(X_test)[:, 1])\n",
    "roc_auc_score_1"
   ]
  },
  {
   "cell_type": "code",
   "execution_count": null,
   "id": "9556c69e",
   "metadata": {},
   "outputs": [],
   "source": [
    "from sklearn.metrics import roc_curve\n",
    "\n",
    "fpr, tpr, thresholds = roc_curve(y_test, model_1.predict_proba(X_test)[:, 1], pos_label=1)\n",
    "plt.plot(fpr, tpr)"
   ]
  },
  {
   "cell_type": "markdown",
   "id": "b3653d98",
   "metadata": {},
   "source": [
    "# Try RF model"
   ]
  },
  {
   "cell_type": "code",
   "execution_count": null,
   "id": "b3f53700",
   "metadata": {},
   "outputs": [],
   "source": [
    "from sklearn.ensemble import RandomForestRegressor\n",
    "from sklearn.pipeline import Pipeline\n",
    "from sklearn.preprocessing import MinMaxScaler\n",
    "from sklearn.metrics import mean_absolute_error, mean_squared_error, r2_score\n",
    "\n",
    "from sklearn.ensemble import RandomForestClassifier\n",
    "\n",
    "from sklearn.datasets import make_classification"
   ]
  },
  {
   "cell_type": "code",
   "execution_count": null,
   "id": "f9c32841",
   "metadata": {},
   "outputs": [],
   "source": [
    "mysteps_2 = [\n",
    "         ('rescale', MinMaxScaler()), \n",
    "         ('RFC', RandomForestClassifier(random_state=42))] \n",
    "\n",
    "model_2 = Pipeline(steps=mysteps_2)\n",
    "\n",
    "model_2 = model_2.fit(X_train, y_train) \n",
    "\n",
    "y_train_pred_2 = model_2.predict(X_train)\n",
    "\n",
    "y_test_pred_2 = model_2.predict(X_test)\n",
    "\n",
    "\n",
    "print (\"test_accuracy_score: \", metrics.accuracy_score(y_test, y_test_pred_2))\n",
    "\n",
    "\n",
    "print (\"test_classification_report \\n\", metrics.classification_report(y_test, y_test_pred_2))"
   ]
  },
  {
   "cell_type": "code",
   "execution_count": null,
   "id": "eff2f0c4",
   "metadata": {},
   "outputs": [],
   "source": [
    "roc_auc_score2 = roc_auc_score(y_test, model_2.predict_proba(X_test)[:, 1])"
   ]
  },
  {
   "cell_type": "code",
   "execution_count": null,
   "id": "b4f7c595",
   "metadata": {},
   "outputs": [],
   "source": [
    "fpr, tpr, thresholds = roc_curve(y_test, model_2.predict_proba(X_test)[:, 1], pos_label=1)\n",
    "plt.plot(fpr, tpr)"
   ]
  },
  {
   "cell_type": "code",
   "execution_count": null,
   "id": "40d08e98",
   "metadata": {},
   "outputs": [],
   "source": [
    "cm_train=metrics.confusion_matrix(y_train, y_train_pred_2)\n",
    "\n",
    "fig, ax = plt.subplots(figsize=(5, 5))\n",
    "ax.matshow(cm_train, cmap=plt.cm.Blues, alpha=0.3)\n",
    "for i in range(cm_train.shape[0]):\n",
    "    for j in range(cm_train.shape[1]):\n",
    "        ax.text(x=j, y=i,s=cm_train[i, j], va='center', ha='center', size='x-large')\n",
    " \n",
    "plt.xlabel('Predictions', fontsize=12)\n",
    "plt.ylabel('Actuals', fontsize=12)\n",
    "plt.title('Train Confusion Matrix', fontsize=12)\n",
    "plt.show()"
   ]
  },
  {
   "cell_type": "code",
   "execution_count": null,
   "id": "919ad3a4",
   "metadata": {},
   "outputs": [],
   "source": [
    "cm_train=metrics.confusion_matrix(y_test, y_test_pred_2)\n",
    "\n",
    "fig, ax = plt.subplots(figsize=(5, 5))\n",
    "ax.matshow(cm_train, cmap=plt.cm.Blues, alpha=0.3)\n",
    "for i in range(cm_train.shape[0]):\n",
    "    for j in range(cm_train.shape[1]):\n",
    "        ax.text(x=j, y=i,s=cm_train[i, j], va='center', ha='center', size='x-large')\n",
    " \n",
    "plt.xlabel('Predictions', fontsize=12)\n",
    "plt.ylabel('Actuals', fontsize=12)\n",
    "plt.title('Train Confusion Matrix', fontsize=12)\n",
    "plt.show()"
   ]
  },
  {
   "cell_type": "markdown",
   "id": "2558ffdb",
   "metadata": {},
   "source": [
    "## Find the most related Features and delete unrelated ones, re-train RF model"
   ]
  },
  {
   "cell_type": "code",
   "execution_count": null,
   "id": "ec519729",
   "metadata": {
    "scrolled": true
   },
   "outputs": [],
   "source": [
    "important_features = pd.DataFrame({'Features': X_train.columns, \n",
    "                                   'Importance': model_2[-1].feature_importances_})\n",
    "\n",
    "important_features = important_features.sort_values('Importance', ascending = False)\n",
    "\n",
    "sns.barplot(x = 'Importance', y = 'Features', data = important_features)\n",
    "\n",
    "plt.title('Feature Importance', fontsize = 15)\n",
    "plt.xlabel('Importance', fontsize = 15)\n",
    "plt.ylabel('Features', fontsize = 15)\n",
    "\n",
    "plt.show()"
   ]
  },
  {
   "cell_type": "code",
   "execution_count": null,
   "id": "3281095a",
   "metadata": {
    "scrolled": true
   },
   "outputs": [],
   "source": [
    "X_3 = features.drop(['region_category_Village',\n",
    "                       'offer_application_preference_Yes',\n",
    "                       'used_special_discount_Yes',\n",
    "                       'preferred_offer_types_Gift Vouchers/Coupons',\n",
    "                       'past_complaint_Yes',\n",
    "                       'preferred_offer_types_Without Offers',\n",
    "                       'medium_of_operation_Smartphone',\n",
    "                       'medium_of_operation_Desktop',\n",
    "                       'internet_option_Wi-Fi',\n",
    "                       'internet_option_Mobile_Data',\n",
    "                       'joined_through_referral_Yes',\n",
    "                       'region_category_Town',\n",
    "                      ], axis =1)\n",
    "y_3 = target\n"
   ]
  },
  {
   "cell_type": "code",
   "execution_count": null,
   "id": "033baf42",
   "metadata": {},
   "outputs": [],
   "source": []
  },
  {
   "cell_type": "code",
   "execution_count": null,
   "id": "a7c620c8",
   "metadata": {},
   "outputs": [],
   "source": [
    "X_train_3, X_test_3, y_train_3, y_test_3 = train_test_split(X_3, y_3, test_size=0.20, random_state=42)\n"
   ]
  },
  {
   "cell_type": "code",
   "execution_count": null,
   "id": "2c50f6fc",
   "metadata": {},
   "outputs": [],
   "source": [
    "mysteps_3 = [\n",
    "         ('rescale', MinMaxScaler()), \n",
    "         ('RFC', RandomForestClassifier(random_state=42))] \n",
    "\n",
    "model_3 = Pipeline(steps = mysteps_3)\n",
    "\n",
    "model_3 = model_3.fit(X_train_3, y_train_3) \n",
    "\n",
    "y_train_pred_3 = model_3.predict(X_train_3)\n",
    "\n",
    "y_test_pred_3 = model_3.predict(X_test_3)\n",
    "\n"
   ]
  },
  {
   "cell_type": "code",
   "execution_count": null,
   "id": "32803968",
   "metadata": {},
   "outputs": [],
   "source": [
    "print (\"test_accuracy_score: \", metrics.accuracy_score(y_test_3, y_test_pred_3))\n",
    "print ('*******************************************')\n",
    "\n",
    "print (\"test_classification_report \\n\", metrics.classification_report(y_test_3, y_test_pred_3))\n",
    "\n",
    "\n",
    "print ('*******************************************')\n",
    "\n",
    "print (\"test_accuracy_score: \", metrics.accuracy_score(y_test, y_test_pred_2))\n",
    "print ('*******************************************')\n",
    "\n",
    "\n",
    "print (\"test_classification_report \\n\", metrics.classification_report(y_test, y_test_pred_2))\n"
   ]
  },
  {
   "cell_type": "code",
   "execution_count": null,
   "id": "18d71c48",
   "metadata": {},
   "outputs": [],
   "source": []
  },
  {
   "cell_type": "code",
   "execution_count": null,
   "id": "7d09d7a9",
   "metadata": {},
   "outputs": [],
   "source": []
  },
  {
   "cell_type": "code",
   "execution_count": null,
   "id": "24f479e0",
   "metadata": {},
   "outputs": [],
   "source": []
  },
  {
   "cell_type": "code",
   "execution_count": null,
   "id": "2d9e9052",
   "metadata": {},
   "outputs": [],
   "source": []
  },
  {
   "cell_type": "code",
   "execution_count": null,
   "id": "75578a48",
   "metadata": {},
   "outputs": [],
   "source": []
  },
  {
   "cell_type": "code",
   "execution_count": null,
   "id": "5b9f8c11",
   "metadata": {},
   "outputs": [],
   "source": []
  },
  {
   "cell_type": "code",
   "execution_count": null,
   "id": "d6386776",
   "metadata": {},
   "outputs": [],
   "source": []
  },
  {
   "cell_type": "code",
   "execution_count": null,
   "id": "1f443837",
   "metadata": {},
   "outputs": [],
   "source": []
  },
  {
   "cell_type": "code",
   "execution_count": null,
   "id": "2642030b",
   "metadata": {},
   "outputs": [],
   "source": []
  },
  {
   "cell_type": "code",
   "execution_count": null,
   "id": "2ba10609",
   "metadata": {},
   "outputs": [],
   "source": []
  },
  {
   "cell_type": "code",
   "execution_count": null,
   "id": "a6715c37",
   "metadata": {},
   "outputs": [],
   "source": []
  },
  {
   "cell_type": "code",
   "execution_count": null,
   "id": "88167982",
   "metadata": {},
   "outputs": [],
   "source": [
    "# categorical_feature = telco_df.dtypes==object\n",
    "# categorical_cols = telco_df.columns[categorical_feature].tolist()\n",
    "\n",
    "# numeric_feature = telco_df.dtypes!=object\n",
    "# numerical_cols = telco_df.columns[numeric_feature].tolist()"
   ]
  },
  {
   "cell_type": "code",
   "execution_count": null,
   "id": "d6c938fb",
   "metadata": {},
   "outputs": [],
   "source": [
    "def kdeplot(feature):\n",
    "    plt.figure(figsize=(9, 4))\n",
    "    plt.title(\"KDE for {}\".format(feature))\n",
    "    ax0 = sns.kdeplot(df[df['Churn'] == 'No'][feature].dropna(), color= 'navy', label= 'Churn: No')\n",
    "    ax1 = sns.kdeplot(df[df['Churn'] == 'Yes'][feature].dropna(), color= 'orange', label= 'Churn: Yes')\n",
    "kdeplot('tenure')\n",
    "kdeplot('MonthlyCharges')\n",
    "kdeplot('TotalCharges')"
   ]
  },
  {
   "cell_type": "code",
   "execution_count": null,
   "id": "273e47fa",
   "metadata": {},
   "outputs": [],
   "source": []
  },
  {
   "cell_type": "code",
   "execution_count": null,
   "id": "70d9d80f",
   "metadata": {},
   "outputs": [],
   "source": []
  },
  {
   "cell_type": "code",
   "execution_count": null,
   "id": "f67534dc",
   "metadata": {},
   "outputs": [],
   "source": []
  },
  {
   "cell_type": "code",
   "execution_count": null,
   "id": "45f95d5c",
   "metadata": {},
   "outputs": [],
   "source": []
  },
  {
   "cell_type": "code",
   "execution_count": null,
   "id": "8fe8332e",
   "metadata": {},
   "outputs": [],
   "source": []
  },
  {
   "cell_type": "code",
   "execution_count": null,
   "id": "ac7d3251",
   "metadata": {},
   "outputs": [],
   "source": []
  },
  {
   "cell_type": "code",
   "execution_count": null,
   "id": "4f1fda5e",
   "metadata": {},
   "outputs": [],
   "source": []
  },
  {
   "cell_type": "code",
   "execution_count": null,
   "id": "6cd5193f",
   "metadata": {},
   "outputs": [],
   "source": []
  },
  {
   "cell_type": "code",
   "execution_count": null,
   "id": "f11127fb",
   "metadata": {},
   "outputs": [],
   "source": []
  },
  {
   "cell_type": "code",
   "execution_count": null,
   "id": "7de0fbc6",
   "metadata": {},
   "outputs": [],
   "source": []
  },
  {
   "cell_type": "code",
   "execution_count": null,
   "id": "9364cb14",
   "metadata": {},
   "outputs": [],
   "source": []
  },
  {
   "cell_type": "code",
   "execution_count": null,
   "id": "a7c73171",
   "metadata": {},
   "outputs": [],
   "source": []
  },
  {
   "cell_type": "code",
   "execution_count": null,
   "id": "85fd2a9a",
   "metadata": {},
   "outputs": [],
   "source": []
  },
  {
   "cell_type": "code",
   "execution_count": null,
   "id": "a9eb2c16",
   "metadata": {},
   "outputs": [],
   "source": []
  },
  {
   "cell_type": "code",
   "execution_count": null,
   "id": "1681b5cc",
   "metadata": {},
   "outputs": [],
   "source": []
  },
  {
   "cell_type": "code",
   "execution_count": null,
   "id": "006a5c85",
   "metadata": {},
   "outputs": [],
   "source": []
  },
  {
   "cell_type": "code",
   "execution_count": null,
   "id": "9bcdfa11",
   "metadata": {},
   "outputs": [],
   "source": []
  },
  {
   "cell_type": "code",
   "execution_count": null,
   "id": "b3f86515",
   "metadata": {},
   "outputs": [],
   "source": []
  },
  {
   "cell_type": "code",
   "execution_count": null,
   "id": "e9cb5113",
   "metadata": {},
   "outputs": [],
   "source": []
  },
  {
   "cell_type": "code",
   "execution_count": null,
   "id": "3310d3ea",
   "metadata": {},
   "outputs": [],
   "source": []
  },
  {
   "cell_type": "code",
   "execution_count": null,
   "id": "01d3b2b4",
   "metadata": {},
   "outputs": [],
   "source": []
  },
  {
   "cell_type": "code",
   "execution_count": null,
   "id": "b400ab76",
   "metadata": {},
   "outputs": [],
   "source": []
  },
  {
   "cell_type": "code",
   "execution_count": null,
   "id": "040d2aac",
   "metadata": {},
   "outputs": [],
   "source": []
  },
  {
   "cell_type": "code",
   "execution_count": null,
   "id": "60e51ee5",
   "metadata": {},
   "outputs": [],
   "source": []
  },
  {
   "cell_type": "code",
   "execution_count": null,
   "id": "128a0cf0",
   "metadata": {},
   "outputs": [],
   "source": []
  },
  {
   "cell_type": "code",
   "execution_count": null,
   "id": "cdd4ad10",
   "metadata": {},
   "outputs": [],
   "source": []
  },
  {
   "cell_type": "code",
   "execution_count": null,
   "id": "713180a0",
   "metadata": {},
   "outputs": [],
   "source": []
  },
  {
   "cell_type": "code",
   "execution_count": null,
   "id": "e6b13725",
   "metadata": {},
   "outputs": [],
   "source": []
  },
  {
   "cell_type": "code",
   "execution_count": null,
   "id": "19f9d469",
   "metadata": {},
   "outputs": [],
   "source": []
  },
  {
   "cell_type": "code",
   "execution_count": null,
   "id": "78aad863",
   "metadata": {},
   "outputs": [],
   "source": []
  },
  {
   "cell_type": "code",
   "execution_count": null,
   "id": "5def43b7",
   "metadata": {},
   "outputs": [],
   "source": []
  },
  {
   "cell_type": "markdown",
   "id": "b9ffb599",
   "metadata": {},
   "source": [
    "## get all non-numeric values from a column\n"
   ]
  },
  {
   "cell_type": "code",
   "execution_count": null,
   "id": "75b7a32e",
   "metadata": {},
   "outputs": [],
   "source": [
    "def is_non_numeric(x):\n",
    "    try:\n",
    "        float(x)\n",
    "        return False\n",
    "    except ValueError:\n",
    "        return True"
   ]
  },
  {
   "cell_type": "code",
   "execution_count": null,
   "id": "4cf2a299",
   "metadata": {},
   "outputs": [],
   "source": [
    "non_numeric_values = df['avg_frequency_login_days'].apply(is_non_numeric)\n",
    "\n",
    "non_numeric_df = df.avg_frequency_login_days[non_numeric_values]\n",
    "\n",
    "non_numeric_df"
   ]
  },
  {
   "cell_type": "code",
   "execution_count": null,
   "id": "f907f251",
   "metadata": {},
   "outputs": [],
   "source": [
    "missing_check = pd.DataFrame(\n",
    "    {'missing_values': df.isnull().sum(),\n",
    "    'percentage': df.isnull().sum()*100 / df.shape[0]})\n",
    "\n",
    "\n",
    "missing_check.sort_values(by= 'percentage',ascending = False)"
   ]
  },
  {
   "cell_type": "code",
   "execution_count": null,
   "id": "49fbf0d9",
   "metadata": {},
   "outputs": [],
   "source": [
    "df_num=df.drop('churn_risk_score', axis=1).select_dtypes(include=[np.number]) \n",
    "\n",
    "fig,ax= plt.subplots(nrows=2,ncols=3,figsize=(20,10))\n",
    "\n",
    "for variable, subplot in zip(df_num.columns,ax.flatten()):\n",
    "    z = sns.kdeplot(x = df_num[variable] , ax=subplot) \n",
    "    z.set_xlabel(variable, fontsize = 10)\n",
    "\n",
    "fig.delaxes(ax[1][2])\n",
    "plt.show()\n",
    "\n",
    "#如何分开两组划线？"
   ]
  },
  {
   "cell_type": "code",
   "execution_count": null,
   "id": "52fa565a",
   "metadata": {},
   "outputs": [],
   "source": []
  },
  {
   "cell_type": "code",
   "execution_count": null,
   "id": "c35ab81d",
   "metadata": {},
   "outputs": [],
   "source": []
  },
  {
   "cell_type": "code",
   "execution_count": null,
   "id": "a9b93666",
   "metadata": {},
   "outputs": [],
   "source": []
  },
  {
   "cell_type": "code",
   "execution_count": null,
   "id": "b4af9c48",
   "metadata": {},
   "outputs": [],
   "source": []
  },
  {
   "cell_type": "code",
   "execution_count": null,
   "id": "60e6555f",
   "metadata": {},
   "outputs": [],
   "source": [
    "###  how to make two list subtract????\n",
    "\n",
    "# numerical_features_list =  list (numerical_features_df)\n",
    "# all_features_list = list(df)\n",
    "\n",
    "# categorical_features_list = np.array(all_features_list) - np.array (numerical_features_list)\n",
    "\n",
    "\n",
    "# categorical_features_list = all_features_list - numerical_features_list\n",
    "\n",
    "# categorical_features_df  = df.loc[:, numerical_features_list]\n",
    "# categorical_features_df .head()\n",
    "\n",
    "### 为什么这个ＣＯＤＥ返回　不正确？　应该用ＯＢＪＥＣＴ,　不用ＣＡＴＥＧＡＲＹ!!!\n",
    "\n",
    "# df_categorical_features = df.select_dtypes(include='object')\n",
    "# df_categorical_features"
   ]
  },
  {
   "cell_type": "code",
   "execution_count": null,
   "id": "6adfbdef",
   "metadata": {},
   "outputs": [],
   "source": []
  },
  {
   "cell_type": "code",
   "execution_count": null,
   "id": "66f48ddb",
   "metadata": {},
   "outputs": [],
   "source": []
  },
  {
   "cell_type": "code",
   "execution_count": null,
   "id": "db4a6454",
   "metadata": {},
   "outputs": [],
   "source": []
  },
  {
   "cell_type": "code",
   "execution_count": null,
   "id": "37388e30",
   "metadata": {},
   "outputs": [],
   "source": []
  },
  {
   "cell_type": "code",
   "execution_count": null,
   "id": "f73a7821",
   "metadata": {},
   "outputs": [],
   "source": [
    "\n",
    "\n"
   ]
  },
  {
   "cell_type": "code",
   "execution_count": null,
   "id": "f1b4dd3e",
   "metadata": {},
   "outputs": [],
   "source": [
    "Try to make a def to do all solumns plot:\n",
    "    \n",
    "# def check_data_unique_status (df):\n",
    "#     for i in column_list:\n",
    "#         df[i].value_count()\n",
    "    \n",
    "# figure, ax = plt.subplots(3, 3,figsize=(12,8))\n",
    "\n",
    "\n",
    "\n",
    "# df.gender.value_counts().plot(kind = 'pie', ax = ax[0, 0], subplots=True)\n",
    "# ax[0, 0].set_title(\"Product Level\")\n",
    "\n",
    "\n",
    "# plt.tight_layout()"
   ]
  },
  {
   "cell_type": "code",
   "execution_count": null,
   "id": "ea2f36f4",
   "metadata": {},
   "outputs": [],
   "source": []
  },
  {
   "cell_type": "code",
   "execution_count": null,
   "id": "8acb9ce2",
   "metadata": {},
   "outputs": [],
   "source": []
  },
  {
   "cell_type": "code",
   "execution_count": null,
   "id": "8e780364",
   "metadata": {},
   "outputs": [],
   "source": []
  },
  {
   "cell_type": "code",
   "execution_count": null,
   "id": "4ac07ec9",
   "metadata": {},
   "outputs": [],
   "source": []
  },
  {
   "cell_type": "code",
   "execution_count": null,
   "id": "077b3147",
   "metadata": {},
   "outputs": [],
   "source": []
  },
  {
   "cell_type": "code",
   "execution_count": null,
   "id": "7383ee56",
   "metadata": {},
   "outputs": [],
   "source": []
  },
  {
   "cell_type": "code",
   "execution_count": null,
   "id": "1017333b",
   "metadata": {},
   "outputs": [],
   "source": []
  },
  {
   "cell_type": "code",
   "execution_count": null,
   "id": "954768da",
   "metadata": {},
   "outputs": [],
   "source": []
  },
  {
   "cell_type": "code",
   "execution_count": null,
   "id": "5ba2c763",
   "metadata": {},
   "outputs": [],
   "source": []
  },
  {
   "cell_type": "code",
   "execution_count": null,
   "id": "5fe25758",
   "metadata": {},
   "outputs": [],
   "source": []
  },
  {
   "cell_type": "code",
   "execution_count": null,
   "id": "4e707821",
   "metadata": {},
   "outputs": [],
   "source": []
  },
  {
   "cell_type": "code",
   "execution_count": null,
   "id": "adaa962a",
   "metadata": {},
   "outputs": [],
   "source": []
  },
  {
   "cell_type": "code",
   "execution_count": null,
   "id": "a82aa014",
   "metadata": {},
   "outputs": [],
   "source": []
  },
  {
   "cell_type": "code",
   "execution_count": null,
   "id": "cd9b41ec",
   "metadata": {},
   "outputs": [],
   "source": []
  },
  {
   "cell_type": "code",
   "execution_count": null,
   "id": "ac4bcf53",
   "metadata": {},
   "outputs": [],
   "source": []
  },
  {
   "cell_type": "code",
   "execution_count": null,
   "id": "4333cfb7",
   "metadata": {},
   "outputs": [],
   "source": []
  },
  {
   "cell_type": "code",
   "execution_count": null,
   "id": "cf75c2e2",
   "metadata": {},
   "outputs": [],
   "source": []
  },
  {
   "cell_type": "code",
   "execution_count": null,
   "id": "c86805df",
   "metadata": {},
   "outputs": [],
   "source": []
  },
  {
   "cell_type": "code",
   "execution_count": null,
   "id": "22fab0ba",
   "metadata": {},
   "outputs": [],
   "source": []
  },
  {
   "cell_type": "code",
   "execution_count": null,
   "id": "9d7a9fed",
   "metadata": {},
   "outputs": [],
   "source": []
  },
  {
   "cell_type": "code",
   "execution_count": null,
   "id": "9ed494b5",
   "metadata": {},
   "outputs": [],
   "source": []
  },
  {
   "cell_type": "code",
   "execution_count": null,
   "id": "55760065",
   "metadata": {},
   "outputs": [],
   "source": []
  },
  {
   "cell_type": "code",
   "execution_count": null,
   "id": "c88137e5",
   "metadata": {},
   "outputs": [],
   "source": []
  },
  {
   "cell_type": "code",
   "execution_count": null,
   "id": "eaaf5d89",
   "metadata": {},
   "outputs": [],
   "source": []
  },
  {
   "cell_type": "code",
   "execution_count": null,
   "id": "7d002b5a",
   "metadata": {},
   "outputs": [],
   "source": []
  },
  {
   "cell_type": "code",
   "execution_count": null,
   "id": "8ed784c7",
   "metadata": {},
   "outputs": [],
   "source": []
  },
  {
   "cell_type": "code",
   "execution_count": null,
   "id": "9a959003",
   "metadata": {},
   "outputs": [],
   "source": []
  },
  {
   "cell_type": "code",
   "execution_count": null,
   "id": "c52ff921",
   "metadata": {},
   "outputs": [],
   "source": []
  },
  {
   "cell_type": "code",
   "execution_count": null,
   "id": "d4919a62",
   "metadata": {},
   "outputs": [],
   "source": []
  },
  {
   "cell_type": "code",
   "execution_count": null,
   "id": "4df0f0e4",
   "metadata": {},
   "outputs": [],
   "source": []
  },
  {
   "cell_type": "code",
   "execution_count": null,
   "id": "8c4e95bf",
   "metadata": {},
   "outputs": [],
   "source": []
  },
  {
   "cell_type": "code",
   "execution_count": null,
   "id": "78bf4717",
   "metadata": {},
   "outputs": [],
   "source": []
  },
  {
   "cell_type": "code",
   "execution_count": null,
   "id": "3a9d774b",
   "metadata": {},
   "outputs": [],
   "source": []
  },
  {
   "cell_type": "code",
   "execution_count": null,
   "id": "92a94fdb",
   "metadata": {},
   "outputs": [],
   "source": []
  },
  {
   "cell_type": "code",
   "execution_count": null,
   "id": "952f9364",
   "metadata": {},
   "outputs": [],
   "source": []
  },
  {
   "cell_type": "code",
   "execution_count": null,
   "id": "d8a72218",
   "metadata": {},
   "outputs": [],
   "source": []
  },
  {
   "cell_type": "code",
   "execution_count": null,
   "id": "ae0b3193",
   "metadata": {},
   "outputs": [],
   "source": []
  },
  {
   "cell_type": "code",
   "execution_count": null,
   "id": "bb784897",
   "metadata": {},
   "outputs": [],
   "source": []
  },
  {
   "cell_type": "code",
   "execution_count": null,
   "id": "80eaa5b5",
   "metadata": {},
   "outputs": [],
   "source": []
  }
 ],
 "metadata": {
  "kernelspec": {
   "display_name": "Python 3 (ipykernel)",
   "language": "python",
   "name": "python3"
  },
  "language_info": {
   "codemirror_mode": {
    "name": "ipython",
    "version": 3
   },
   "file_extension": ".py",
   "mimetype": "text/x-python",
   "name": "python",
   "nbconvert_exporter": "python",
   "pygments_lexer": "ipython3",
   "version": "3.9.13"
  },
  "toc": {
   "base_numbering": 1,
   "nav_menu": {},
   "number_sections": true,
   "sideBar": true,
   "skip_h1_title": false,
   "title_cell": "Table of Contents",
   "title_sidebar": "Contents",
   "toc_cell": false,
   "toc_position": {
    "height": "calc(100% - 180px)",
    "left": "10px",
    "top": "150px",
    "width": "165px"
   },
   "toc_section_display": true,
   "toc_window_display": false
  },
  "varInspector": {
   "cols": {
    "lenName": 16,
    "lenType": 16,
    "lenVar": 40
   },
   "kernels_config": {
    "python": {
     "delete_cmd_postfix": "",
     "delete_cmd_prefix": "del ",
     "library": "var_list.py",
     "varRefreshCmd": "print(var_dic_list())"
    },
    "r": {
     "delete_cmd_postfix": ") ",
     "delete_cmd_prefix": "rm(",
     "library": "var_list.r",
     "varRefreshCmd": "cat(var_dic_list()) "
    }
   },
   "types_to_exclude": [
    "module",
    "function",
    "builtin_function_or_method",
    "instance",
    "_Feature"
   ],
   "window_display": false
  }
 },
 "nbformat": 4,
 "nbformat_minor": 5
}
